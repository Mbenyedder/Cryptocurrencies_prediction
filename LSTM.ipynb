{
  "nbformat": 4,
  "nbformat_minor": 0,
  "metadata": {
    "colab": {
      "name": "Mémoire_LSTM.ipynb",
      "provenance": []
    },
    "kernelspec": {
      "name": "python3",
      "display_name": "Python 3"
    }
  },
  "cells": [
    {
      "cell_type": "code",
      "metadata": {
        "id": "iTu7f6pZ9KlA"
      },
      "source": [
        "import pandas as pd\n",
        "import pandas_datareader.data as pdr\n",
        "import numpy as np\n",
        "import matplotlib.pyplot as plt\n",
        "from keras.models import Sequential\n",
        "from keras.layers import Dense\n",
        "from keras.layers import Dropout\n",
        "from keras.layers import LSTM\n",
        "from sklearn.preprocessing import MinMaxScaler\n",
        "from datetime import datetime\n",
        "from tensorflow.keras.models import Sequential\n",
        "from tensorflow.keras.layers import Dense\n",
        "from tensorflow.keras.layers import LSTM\n",
        "import tensorflow as tf"
      ],
      "execution_count": 1,
      "outputs": []
    },
    {
      "cell_type": "code",
      "metadata": {
        "id": "oUJzh7qO-NAg"
      },
      "source": [
        "#On fixe aujourd'hui comme la date de la fin \n",
        "end_date = datetime.today()\n",
        "\n",
        "#Sla date de la fin 4 ans en arriere\n",
        "start_date = datetime(end_date.year-4,end_date.month,end_date.day)\n",
        "#using yahoo finance to grab cryptocurrency data\n",
        "\n",
        "BTC = pdr.DataReader('BTC-USD','yahoo',start_date,end_date)#Bitcoin\n",
        "ETH = pdr.DataReader('ETH-USD','yahoo',start_date,end_date)#Ethereum\n",
        "LTC = pdr.DataReader('LTC-USD','yahoo',start_date,end_date)#Litecon"
      ],
      "execution_count": null,
      "outputs": []
    },
    {
      "cell_type": "code",
      "metadata": {
        "id": "dhKVx2WiBFuY",
        "colab": {
          "base_uri": "https://localhost:8080/",
          "height": 450
        },
        "outputId": "d0482c06-38ba-462f-9aaa-ee0df91c222f"
      },
      "source": [
        "df=BTC\n",
        "df"
      ],
      "execution_count": null,
      "outputs": [
        {
          "output_type": "execute_result",
          "data": {
            "text/html": [
              "<div>\n",
              "<style scoped>\n",
              "    .dataframe tbody tr th:only-of-type {\n",
              "        vertical-align: middle;\n",
              "    }\n",
              "\n",
              "    .dataframe tbody tr th {\n",
              "        vertical-align: top;\n",
              "    }\n",
              "\n",
              "    .dataframe thead th {\n",
              "        text-align: right;\n",
              "    }\n",
              "</style>\n",
              "<table border=\"1\" class=\"dataframe\">\n",
              "  <thead>\n",
              "    <tr style=\"text-align: right;\">\n",
              "      <th></th>\n",
              "      <th>High</th>\n",
              "      <th>Low</th>\n",
              "      <th>Open</th>\n",
              "      <th>Close</th>\n",
              "      <th>Volume</th>\n",
              "      <th>Adj Close</th>\n",
              "    </tr>\n",
              "    <tr>\n",
              "      <th>Date</th>\n",
              "      <th></th>\n",
              "      <th></th>\n",
              "      <th></th>\n",
              "      <th></th>\n",
              "      <th></th>\n",
              "      <th></th>\n",
              "    </tr>\n",
              "  </thead>\n",
              "  <tbody>\n",
              "    <tr>\n",
              "      <th>2016-06-22</th>\n",
              "      <td>629.327026</td>\n",
              "      <td>558.138977</td>\n",
              "      <td>597.442993</td>\n",
              "      <td>623.976990</td>\n",
              "      <td>2.534620e+08</td>\n",
              "      <td>623.976990</td>\n",
              "    </tr>\n",
              "    <tr>\n",
              "      <th>2016-06-23</th>\n",
              "      <td>681.726990</td>\n",
              "      <td>625.271973</td>\n",
              "      <td>625.575012</td>\n",
              "      <td>665.299011</td>\n",
              "      <td>2.243170e+08</td>\n",
              "      <td>665.299011</td>\n",
              "    </tr>\n",
              "    <tr>\n",
              "      <th>2016-06-24</th>\n",
              "      <td>691.731018</td>\n",
              "      <td>646.559021</td>\n",
              "      <td>665.281006</td>\n",
              "      <td>665.122986</td>\n",
              "      <td>1.266560e+08</td>\n",
              "      <td>665.122986</td>\n",
              "    </tr>\n",
              "    <tr>\n",
              "      <th>2016-06-25</th>\n",
              "      <td>665.979980</td>\n",
              "      <td>616.934021</td>\n",
              "      <td>665.931030</td>\n",
              "      <td>629.367004</td>\n",
              "      <td>1.092250e+08</td>\n",
              "      <td>629.367004</td>\n",
              "    </tr>\n",
              "    <tr>\n",
              "      <th>2016-06-26</th>\n",
              "      <td>655.275024</td>\n",
              "      <td>620.523987</td>\n",
              "      <td>629.348999</td>\n",
              "      <td>655.275024</td>\n",
              "      <td>1.221340e+08</td>\n",
              "      <td>655.275024</td>\n",
              "    </tr>\n",
              "    <tr>\n",
              "      <th>...</th>\n",
              "      <td>...</td>\n",
              "      <td>...</td>\n",
              "      <td>...</td>\n",
              "      <td>...</td>\n",
              "      <td>...</td>\n",
              "      <td>...</td>\n",
              "    </tr>\n",
              "    <tr>\n",
              "      <th>2020-06-16</th>\n",
              "      <td>9540.422852</td>\n",
              "      <td>9327.339844</td>\n",
              "      <td>9533.784180</td>\n",
              "      <td>9480.254883</td>\n",
              "      <td>2.017771e+10</td>\n",
              "      <td>9480.254883</td>\n",
              "    </tr>\n",
              "    <tr>\n",
              "      <th>2020-06-17</th>\n",
              "      <td>9482.782227</td>\n",
              "      <td>9328.395508</td>\n",
              "      <td>9481.567383</td>\n",
              "      <td>9411.840820</td>\n",
              "      <td>1.777008e+10</td>\n",
              "      <td>9411.840820</td>\n",
              "    </tr>\n",
              "    <tr>\n",
              "      <th>2020-06-18</th>\n",
              "      <td>9440.875977</td>\n",
              "      <td>9274.295898</td>\n",
              "      <td>9410.293945</td>\n",
              "      <td>9288.018555</td>\n",
              "      <td>1.963222e+10</td>\n",
              "      <td>9288.018555</td>\n",
              "    </tr>\n",
              "    <tr>\n",
              "      <th>2020-06-20</th>\n",
              "      <td>9401.107422</td>\n",
              "      <td>9300.430664</td>\n",
              "      <td>9330.926758</td>\n",
              "      <td>9303.629883</td>\n",
              "      <td>1.532430e+10</td>\n",
              "      <td>9303.629883</td>\n",
              "    </tr>\n",
              "    <tr>\n",
              "      <th>2020-06-23</th>\n",
              "      <td>9668.774414</td>\n",
              "      <td>9547.247070</td>\n",
              "      <td>9653.317383</td>\n",
              "      <td>9653.162109</td>\n",
              "      <td>1.879042e+10</td>\n",
              "      <td>9653.162109</td>\n",
              "    </tr>\n",
              "  </tbody>\n",
              "</table>\n",
              "<p>1460 rows × 6 columns</p>\n",
              "</div>"
            ],
            "text/plain": [
              "                   High          Low  ...        Volume    Adj Close\n",
              "Date                                  ...                           \n",
              "2016-06-22   629.327026   558.138977  ...  2.534620e+08   623.976990\n",
              "2016-06-23   681.726990   625.271973  ...  2.243170e+08   665.299011\n",
              "2016-06-24   691.731018   646.559021  ...  1.266560e+08   665.122986\n",
              "2016-06-25   665.979980   616.934021  ...  1.092250e+08   629.367004\n",
              "2016-06-26   655.275024   620.523987  ...  1.221340e+08   655.275024\n",
              "...                 ...          ...  ...           ...          ...\n",
              "2020-06-16  9540.422852  9327.339844  ...  2.017771e+10  9480.254883\n",
              "2020-06-17  9482.782227  9328.395508  ...  1.777008e+10  9411.840820\n",
              "2020-06-18  9440.875977  9274.295898  ...  1.963222e+10  9288.018555\n",
              "2020-06-20  9401.107422  9300.430664  ...  1.532430e+10  9303.629883\n",
              "2020-06-23  9668.774414  9547.247070  ...  1.879042e+10  9653.162109\n",
              "\n",
              "[1460 rows x 6 columns]"
            ]
          },
          "metadata": {
            "tags": []
          },
          "execution_count": 57
        }
      ]
    },
    {
      "cell_type": "code",
      "metadata": {
        "id": "FpHhtzILBB0P",
        "colab": {
          "base_uri": "https://localhost:8080/",
          "height": 235
        },
        "outputId": "60d1fad1-fd50-40c6-db2d-d92e5c3520da"
      },
      "source": [
        "df=df.drop(df.columns[[0,1,2,4,5]],axis='columns')\n",
        "df.tail()"
      ],
      "execution_count": null,
      "outputs": [
        {
          "output_type": "execute_result",
          "data": {
            "text/html": [
              "<div>\n",
              "<style scoped>\n",
              "    .dataframe tbody tr th:only-of-type {\n",
              "        vertical-align: middle;\n",
              "    }\n",
              "\n",
              "    .dataframe tbody tr th {\n",
              "        vertical-align: top;\n",
              "    }\n",
              "\n",
              "    .dataframe thead th {\n",
              "        text-align: right;\n",
              "    }\n",
              "</style>\n",
              "<table border=\"1\" class=\"dataframe\">\n",
              "  <thead>\n",
              "    <tr style=\"text-align: right;\">\n",
              "      <th></th>\n",
              "      <th>Close</th>\n",
              "    </tr>\n",
              "    <tr>\n",
              "      <th>Date</th>\n",
              "      <th></th>\n",
              "    </tr>\n",
              "  </thead>\n",
              "  <tbody>\n",
              "    <tr>\n",
              "      <th>2020-06-16</th>\n",
              "      <td>9480.254883</td>\n",
              "    </tr>\n",
              "    <tr>\n",
              "      <th>2020-06-17</th>\n",
              "      <td>9411.840820</td>\n",
              "    </tr>\n",
              "    <tr>\n",
              "      <th>2020-06-18</th>\n",
              "      <td>9288.018555</td>\n",
              "    </tr>\n",
              "    <tr>\n",
              "      <th>2020-06-20</th>\n",
              "      <td>9303.629883</td>\n",
              "    </tr>\n",
              "    <tr>\n",
              "      <th>2020-06-23</th>\n",
              "      <td>9653.162109</td>\n",
              "    </tr>\n",
              "  </tbody>\n",
              "</table>\n",
              "</div>"
            ],
            "text/plain": [
              "                  Close\n",
              "Date                   \n",
              "2020-06-16  9480.254883\n",
              "2020-06-17  9411.840820\n",
              "2020-06-18  9288.018555\n",
              "2020-06-20  9303.629883\n",
              "2020-06-23  9653.162109"
            ]
          },
          "metadata": {
            "tags": []
          },
          "execution_count": 58
        }
      ]
    },
    {
      "cell_type": "code",
      "metadata": {
        "id": "Um3cBQQ2ClED",
        "colab": {
          "base_uri": "https://localhost:8080/",
          "height": 153
        },
        "outputId": "afa3f2bf-73f6-42f7-c47f-2a268cbedf72"
      },
      "source": [
        "df.info()"
      ],
      "execution_count": null,
      "outputs": [
        {
          "output_type": "stream",
          "text": [
            "<class 'pandas.core.frame.DataFrame'>\n",
            "DatetimeIndex: 1460 entries, 2016-06-22 to 2020-06-23\n",
            "Data columns (total 1 columns):\n",
            " #   Column  Non-Null Count  Dtype  \n",
            "---  ------  --------------  -----  \n",
            " 0   Close   1460 non-null   float64\n",
            "dtypes: float64(1)\n",
            "memory usage: 22.8 KB\n"
          ],
          "name": "stdout"
        }
      ]
    },
    {
      "cell_type": "code",
      "metadata": {
        "id": "J8RRbLknCqnW",
        "colab": {
          "base_uri": "https://localhost:8080/",
          "height": 375
        },
        "outputId": "cc5b8e39-c4bb-4c53-d804-ebea090d000c"
      },
      "source": [
        "df.plot(y= 'Close', figsize=(12,6), legend=True, grid=True, use_index=True)\n",
        "plt.show()"
      ],
      "execution_count": null,
      "outputs": [
        {
          "output_type": "display_data",
          "data": {
            "image/png": "[encoded data removed]",
            "text/plain": [
              "<Figure size 864x432 with 1 Axes>"
            ]
          },
          "metadata": {
            "tags": [],
            "needs_background": "light"
          }
        }
      ]
    },
    {
      "cell_type": "code",
      "metadata": {
        "id": "OxOyKNt6Cwew"
      },
      "source": [
        "from sklearn.preprocessing import MinMaxScaler\n",
        "scaler=MinMaxScaler(feature_range=(0,1)) #Values between 0 nd 1\n",
        "df=scaler.fit_transform(np.array(df).reshape(-1,1) )#reshaping so we can parsing"
      ],
      "execution_count": null,
      "outputs": []
    },
    {
      "cell_type": "code",
      "metadata": {
        "id": "bFYqrxhkC1fA"
      },
      "source": [
        "train_size=int(len(df)*0.9)\n",
        "test_size=len(df)-train_size\n",
        "train_data,test_data=df[0:train_size,:],df[train_size:len(df),:1]"
      ],
      "execution_count": null,
      "outputs": []
    },
    {
      "cell_type": "code",
      "metadata": {
        "id": "VnldjEvXC4Ef"
      },
      "source": [
        "def create_dataset(dataset, step=1):\n",
        "    dataX, dataY = [], []\n",
        "    for i in range(len(dataset)-step-1):\n",
        "        a = dataset[i:(i+step), 0]   ###i=0, 0,1,2,3-----99   100 #time step =100 \n",
        "        dataX.append(a)#99\n",
        "        dataY.append(dataset[i + step, 0])#100\n",
        "    return np.array(dataX), np.array(dataY)"
      ],
      "execution_count": null,
      "outputs": []
    },
    {
      "cell_type": "code",
      "metadata": {
        "id": "3o4gvAa4C6WA"
      },
      "source": [
        "step = 100 #previous obs \n",
        "X_train, y_train = create_dataset(train_data, step)\n",
        "X_test, y_test = create_dataset(test_data, step)"
      ],
      "execution_count": null,
      "outputs": []
    },
    {
      "cell_type": "code",
      "metadata": {
        "id": "9wRv0Y9mC9mA"
      },
      "source": [
        "X_train =X_train.reshape(X_train.shape[0],X_train.shape[1] , 1)\n",
        "X_test = X_test.reshape(X_test.shape[0],X_test.shape[1] , 1)"
      ],
      "execution_count": null,
      "outputs": []
    },
    {
      "cell_type": "code",
      "metadata": {
        "id": "3h15krlFDB4Z"
      },
      "source": [
        "model=Sequential()\n",
        "model.add(LSTM(50,activation='relu',return_sequences=True,input_shape=(100,1)))\n",
        "model.add(LSTM(50,return_sequences=True))\n",
        "model.add(LSTM(50))\n",
        "model.add(Dense(1))\n",
        "model.compile(loss='mean_squared_error',optimizer='adam')\n"
      ],
      "execution_count": null,
      "outputs": []
    },
    {
      "cell_type": "code",
      "metadata": {
        "id": "Er7P4dciDIGx",
        "colab": {
          "base_uri": "https://localhost:8080/",
          "height": 1000
        },
        "outputId": "ecf0cb32-7b89-4d36-986b-a9d66b21613a"
      },
      "source": [
        "x=model.fit(X_train,y_train,validation_data=(X_test,y_test),epochs=100,batch_size=64,verbose=1)"
      ],
      "execution_count": null,
      "outputs": [
        {
          "output_type": "stream",
          "text": [
            "Epoch 1/100\n",
            "19/19 [==============================] - 4s 214ms/step - loss: 0.0276 - val_loss: 0.0106\n",
            "Epoch 2/100\n",
            "19/19 [==============================] - 3s 171ms/step - loss: 0.0046 - val_loss: 8.5065e-04\n",
            "Epoch 3/100\n",
            "19/19 [==============================] - 3s 172ms/step - loss: 0.0030 - val_loss: 0.0010\n",
            "Epoch 4/100\n",
            "19/19 [==============================] - 3s 169ms/step - loss: 0.0029 - val_loss: 0.0011\n",
            "Epoch 5/100\n",
            "19/19 [==============================] - 3s 170ms/step - loss: 0.0026 - val_loss: 6.5359e-04\n",
            "Epoch 6/100\n",
            "19/19 [==============================] - 3s 167ms/step - loss: 0.0023 - val_loss: 0.0013\n",
            "Epoch 7/100\n",
            "19/19 [==============================] - 3s 169ms/step - loss: 0.0022 - val_loss: 5.7865e-04\n",
            "Epoch 8/100\n",
            "19/19 [==============================] - 3s 167ms/step - loss: 0.0019 - val_loss: 6.0194e-04\n",
            "Epoch 9/100\n",
            "19/19 [==============================] - 3s 170ms/step - loss: 0.0019 - val_loss: 5.4375e-04\n",
            "Epoch 10/100\n",
            "19/19 [==============================] - 3s 167ms/step - loss: 0.0019 - val_loss: 7.4420e-04\n",
            "Epoch 11/100\n",
            "19/19 [==============================] - 3s 169ms/step - loss: 0.0017 - val_loss: 6.3477e-04\n",
            "Epoch 12/100\n",
            "19/19 [==============================] - 3s 170ms/step - loss: 0.0016 - val_loss: 6.2587e-04\n",
            "Epoch 13/100\n",
            "19/19 [==============================] - 3s 175ms/step - loss: 0.0016 - val_loss: 0.0012\n",
            "Epoch 14/100\n",
            "19/19 [==============================] - 3s 168ms/step - loss: 0.0015 - val_loss: 8.1702e-04\n",
            "Epoch 15/100\n",
            "19/19 [==============================] - 3s 162ms/step - loss: 0.0015 - val_loss: 7.3208e-04\n",
            "Epoch 16/100\n",
            "19/19 [==============================] - 3s 167ms/step - loss: 0.0014 - val_loss: 5.5361e-04\n",
            "Epoch 17/100\n",
            "19/19 [==============================] - 3s 167ms/step - loss: 0.0013 - val_loss: 5.1341e-04\n",
            "Epoch 18/100\n",
            "19/19 [==============================] - 3s 171ms/step - loss: 0.0012 - val_loss: 6.3865e-04\n",
            "Epoch 19/100\n",
            "19/19 [==============================] - 3s 168ms/step - loss: 0.0013 - val_loss: 7.4006e-04\n",
            "Epoch 20/100\n",
            "19/19 [==============================] - 3s 170ms/step - loss: 0.0012 - val_loss: 7.5399e-04\n",
            "Epoch 21/100\n",
            "19/19 [==============================] - 3s 173ms/step - loss: 0.0012 - val_loss: 5.0818e-04\n",
            "Epoch 22/100\n",
            "19/19 [==============================] - 3s 173ms/step - loss: 0.0012 - val_loss: 7.3890e-04\n",
            "Epoch 23/100\n",
            "19/19 [==============================] - 3s 168ms/step - loss: 0.0012 - val_loss: 5.1870e-04\n",
            "Epoch 24/100\n",
            "19/19 [==============================] - 3s 168ms/step - loss: 0.0011 - val_loss: 9.0813e-04\n",
            "Epoch 25/100\n",
            "19/19 [==============================] - 3s 169ms/step - loss: 0.0011 - val_loss: 8.0804e-04\n",
            "Epoch 26/100\n",
            "19/19 [==============================] - 3s 172ms/step - loss: 0.0011 - val_loss: 5.8007e-04\n",
            "Epoch 27/100\n",
            "19/19 [==============================] - 3s 171ms/step - loss: 0.0010 - val_loss: 5.2749e-04\n",
            "Epoch 28/100\n",
            "19/19 [==============================] - 3s 167ms/step - loss: 9.6465e-04 - val_loss: 6.4104e-04\n",
            "Epoch 29/100\n",
            "19/19 [==============================] - 3s 170ms/step - loss: 0.0010 - val_loss: 0.0012\n",
            "Epoch 30/100\n",
            "19/19 [==============================] - 3s 167ms/step - loss: 0.0011 - val_loss: 5.7233e-04\n",
            "Epoch 31/100\n",
            "19/19 [==============================] - 3s 172ms/step - loss: 9.8518e-04 - val_loss: 6.6046e-04\n",
            "Epoch 32/100\n",
            "19/19 [==============================] - 3s 172ms/step - loss: 0.0010 - val_loss: 5.5122e-04\n",
            "Epoch 33/100\n",
            "19/19 [==============================] - 3s 171ms/step - loss: 8.7626e-04 - val_loss: 5.2762e-04\n",
            "Epoch 34/100\n",
            "19/19 [==============================] - 3s 171ms/step - loss: 8.9814e-04 - val_loss: 5.4248e-04\n",
            "Epoch 35/100\n",
            "19/19 [==============================] - 3s 170ms/step - loss: 9.2252e-04 - val_loss: 4.9739e-04\n",
            "Epoch 36/100\n",
            "19/19 [==============================] - 3s 167ms/step - loss: 0.0012 - val_loss: 0.0017\n",
            "Epoch 37/100\n",
            "19/19 [==============================] - 3s 170ms/step - loss: 0.0011 - val_loss: 7.6177e-04\n",
            "Epoch 38/100\n",
            "19/19 [==============================] - 3s 174ms/step - loss: 8.7135e-04 - val_loss: 5.1637e-04\n",
            "Epoch 39/100\n",
            "19/19 [==============================] - 3s 170ms/step - loss: 8.1570e-04 - val_loss: 5.3052e-04\n",
            "Epoch 40/100\n",
            "19/19 [==============================] - 3s 169ms/step - loss: 8.1143e-04 - val_loss: 5.4988e-04\n",
            "Epoch 41/100\n",
            "19/19 [==============================] - 3s 172ms/step - loss: 7.7056e-04 - val_loss: 6.4431e-04\n",
            "Epoch 42/100\n",
            "19/19 [==============================] - 3s 170ms/step - loss: 8.3293e-04 - val_loss: 5.1079e-04\n",
            "Epoch 43/100\n",
            "19/19 [==============================] - 3s 171ms/step - loss: 7.5276e-04 - val_loss: 7.8263e-04\n",
            "Epoch 44/100\n",
            "19/19 [==============================] - 3s 176ms/step - loss: 8.2231e-04 - val_loss: 9.6322e-04\n",
            "Epoch 45/100\n",
            "19/19 [==============================] - 3s 172ms/step - loss: 7.8132e-04 - val_loss: 5.6384e-04\n",
            "Epoch 46/100\n",
            "19/19 [==============================] - 3s 171ms/step - loss: 7.3546e-04 - val_loss: 5.6022e-04\n",
            "Epoch 47/100\n",
            "19/19 [==============================] - 3s 170ms/step - loss: 7.3675e-04 - val_loss: 4.5568e-04\n",
            "Epoch 48/100\n",
            "19/19 [==============================] - 3s 175ms/step - loss: 7.2267e-04 - val_loss: 7.4719e-04\n",
            "Epoch 49/100\n",
            "19/19 [==============================] - 3s 169ms/step - loss: 7.7634e-04 - val_loss: 5.5228e-04\n",
            "Epoch 50/100\n",
            "19/19 [==============================] - 3s 171ms/step - loss: 7.1613e-04 - val_loss: 5.6075e-04\n",
            "Epoch 51/100\n",
            "19/19 [==============================] - 3s 171ms/step - loss: 6.9581e-04 - val_loss: 4.4134e-04\n",
            "Epoch 52/100\n",
            "19/19 [==============================] - 3s 172ms/step - loss: 7.2460e-04 - val_loss: 5.1288e-04\n",
            "Epoch 53/100\n",
            "19/19 [==============================] - 3s 177ms/step - loss: 6.5828e-04 - val_loss: 4.4023e-04\n",
            "Epoch 54/100\n",
            "19/19 [==============================] - 3s 174ms/step - loss: 6.5487e-04 - val_loss: 5.7430e-04\n",
            "Epoch 55/100\n",
            "19/19 [==============================] - 3s 172ms/step - loss: 6.4837e-04 - val_loss: 9.8529e-04\n",
            "Epoch 56/100\n",
            "19/19 [==============================] - 3s 172ms/step - loss: 6.5130e-04 - val_loss: 4.7411e-04\n",
            "Epoch 57/100\n",
            "19/19 [==============================] - 3s 172ms/step - loss: 6.2310e-04 - val_loss: 6.0877e-04\n",
            "Epoch 58/100\n",
            "19/19 [==============================] - 3s 170ms/step - loss: 6.2220e-04 - val_loss: 4.2635e-04\n",
            "Epoch 59/100\n",
            "19/19 [==============================] - 3s 169ms/step - loss: 6.4812e-04 - val_loss: 7.3128e-04\n",
            "Epoch 60/100\n",
            "19/19 [==============================] - 3s 174ms/step - loss: 7.2798e-04 - val_loss: 6.0923e-04\n",
            "Epoch 61/100\n",
            "19/19 [==============================] - 3s 173ms/step - loss: 5.9204e-04 - val_loss: 4.4902e-04\n",
            "Epoch 62/100\n",
            "19/19 [==============================] - 3s 170ms/step - loss: 5.7550e-04 - val_loss: 0.0012\n",
            "Epoch 63/100\n",
            "19/19 [==============================] - 3s 166ms/step - loss: 5.7471e-04 - val_loss: 4.1504e-04\n",
            "Epoch 64/100\n",
            "19/19 [==============================] - 3s 163ms/step - loss: 5.4095e-04 - val_loss: 4.5341e-04\n",
            "Epoch 65/100\n",
            "19/19 [==============================] - 3s 167ms/step - loss: 5.9656e-04 - val_loss: 4.7483e-04\n",
            "Epoch 66/100\n",
            "19/19 [==============================] - 3s 166ms/step - loss: 5.6485e-04 - val_loss: 3.9623e-04\n",
            "Epoch 67/100\n",
            "19/19 [==============================] - 3s 170ms/step - loss: 5.1055e-04 - val_loss: 5.5333e-04\n",
            "Epoch 68/100\n",
            "19/19 [==============================] - 3s 167ms/step - loss: 6.2858e-04 - val_loss: 5.1602e-04\n",
            "Epoch 69/100\n",
            "19/19 [==============================] - 3s 166ms/step - loss: 5.4006e-04 - val_loss: 3.7401e-04\n",
            "Epoch 70/100\n",
            "19/19 [==============================] - 3s 167ms/step - loss: 5.1379e-04 - val_loss: 4.0983e-04\n",
            "Epoch 71/100\n",
            "19/19 [==============================] - 3s 169ms/step - loss: 5.1010e-04 - val_loss: 6.0161e-04\n",
            "Epoch 72/100\n",
            "19/19 [==============================] - 3s 168ms/step - loss: 4.8567e-04 - val_loss: 4.7987e-04\n",
            "Epoch 73/100\n",
            "19/19 [==============================] - 3s 165ms/step - loss: 5.7160e-04 - val_loss: 4.4150e-04\n",
            "Epoch 74/100\n",
            "19/19 [==============================] - 3s 170ms/step - loss: 5.0528e-04 - val_loss: 9.2287e-04\n",
            "Epoch 75/100\n",
            "19/19 [==============================] - 3s 172ms/step - loss: 4.8543e-04 - val_loss: 3.4988e-04\n",
            "Epoch 76/100\n",
            "19/19 [==============================] - 3s 175ms/step - loss: 5.5479e-04 - val_loss: 4.0277e-04\n",
            "Epoch 77/100\n",
            "19/19 [==============================] - 3s 177ms/step - loss: 5.0063e-04 - val_loss: 6.5722e-04\n",
            "Epoch 78/100\n",
            "19/19 [==============================] - 3s 168ms/step - loss: 4.5928e-04 - val_loss: 3.5793e-04\n",
            "Epoch 79/100\n",
            "19/19 [==============================] - 3s 170ms/step - loss: 4.1977e-04 - val_loss: 3.7043e-04\n",
            "Epoch 80/100\n",
            "19/19 [==============================] - 3s 170ms/step - loss: 4.0897e-04 - val_loss: 3.2851e-04\n",
            "Epoch 81/100\n",
            "19/19 [==============================] - 3s 171ms/step - loss: 4.2384e-04 - val_loss: 6.0593e-04\n",
            "Epoch 82/100\n",
            "19/19 [==============================] - 3s 168ms/step - loss: 4.2314e-04 - val_loss: 4.4325e-04\n",
            "Epoch 83/100\n",
            "19/19 [==============================] - 3s 170ms/step - loss: 4.0423e-04 - val_loss: 3.2769e-04\n",
            "Epoch 84/100\n",
            "19/19 [==============================] - 3s 171ms/step - loss: 4.2286e-04 - val_loss: 3.2722e-04\n",
            "Epoch 85/100\n",
            "19/19 [==============================] - 3s 170ms/step - loss: 4.1412e-04 - val_loss: 3.2369e-04\n",
            "Epoch 86/100\n",
            "19/19 [==============================] - 3s 174ms/step - loss: 3.9420e-04 - val_loss: 3.4668e-04\n",
            "Epoch 87/100\n",
            "19/19 [==============================] - 3s 169ms/step - loss: 4.5052e-04 - val_loss: 5.4324e-04\n",
            "Epoch 88/100\n",
            "19/19 [==============================] - 3s 173ms/step - loss: 4.9720e-04 - val_loss: 3.3937e-04\n",
            "Epoch 89/100\n",
            "19/19 [==============================] - 3s 169ms/step - loss: 4.9994e-04 - val_loss: 3.8574e-04\n",
            "Epoch 90/100\n",
            "19/19 [==============================] - 3s 180ms/step - loss: 4.1944e-04 - val_loss: 3.4433e-04\n",
            "Epoch 91/100\n",
            "19/19 [==============================] - 3s 174ms/step - loss: 4.2632e-04 - val_loss: 8.2519e-04\n",
            "Epoch 92/100\n",
            "19/19 [==============================] - 3s 168ms/step - loss: 5.1751e-04 - val_loss: 3.0787e-04\n",
            "Epoch 93/100\n",
            "19/19 [==============================] - 3s 168ms/step - loss: 4.8522e-04 - val_loss: 4.5644e-04\n",
            "Epoch 94/100\n",
            "19/19 [==============================] - 3s 170ms/step - loss: 4.1981e-04 - val_loss: 3.2798e-04\n",
            "Epoch 95/100\n",
            "19/19 [==============================] - 3s 169ms/step - loss: 3.9216e-04 - val_loss: 4.8377e-04\n",
            "Epoch 96/100\n",
            "19/19 [==============================] - 3s 167ms/step - loss: 4.9818e-04 - val_loss: 3.6942e-04\n",
            "Epoch 97/100\n",
            "19/19 [==============================] - 3s 172ms/step - loss: 5.2994e-04 - val_loss: 4.7681e-04\n",
            "Epoch 98/100\n",
            "19/19 [==============================] - 3s 172ms/step - loss: 4.0059e-04 - val_loss: 4.2886e-04\n",
            "Epoch 99/100\n",
            "19/19 [==============================] - 3s 172ms/step - loss: 4.7080e-04 - val_loss: 4.0155e-04\n",
            "Epoch 100/100\n",
            "19/19 [==============================] - 3s 181ms/step - loss: 4.0149e-04 - val_loss: 3.1327e-04\n"
          ],
          "name": "stdout"
        }
      ]
    },
    {
      "cell_type": "code",
      "metadata": {
        "id": "T9H76gsfDRjG",
        "colab": {
          "base_uri": "https://localhost:8080/",
          "height": 265
        },
        "outputId": "25c07ed4-42a1-4391-ade7-36dc6b8bacf6"
      },
      "source": [
        "plt.plot(x.history['loss'],label='train')\n",
        "plt.plot(x.history['val_loss'],label='validation')\n",
        "plt.legend();"
      ],
      "execution_count": null,
      "outputs": [
        {
          "output_type": "display_data",
          "data": {
            "image/png": "[encoded data removed]",
            "text/plain": [
              "<Figure size 432x288 with 1 Axes>"
            ]
          },
          "metadata": {
            "tags": [],
            "needs_background": "light"
          }
        }
      ]
    },
    {
      "cell_type": "code",
      "metadata": {
        "id": "WZFP3eHqDRnu"
      },
      "source": [
        "### Faisons quelques prédictions\n",
        "train_predict=model.predict(X_train)\n",
        "test_predict=model.predict(X_test)"
      ],
      "execution_count": null,
      "outputs": []
    },
    {
      "cell_type": "code",
      "metadata": {
        "id": "_mS2kB91DRqQ"
      },
      "source": [
        "##Transformback to original form\n",
        "train_predict=scaler.inverse_transform(train_predict)\n",
        "test_predict=scaler.inverse_transform(test_predict)"
      ],
      "execution_count": null,
      "outputs": []
    },
    {
      "cell_type": "code",
      "metadata": {
        "id": "NPp8sGOQDRsr",
        "colab": {
          "base_uri": "https://localhost:8080/",
          "height": 265
        },
        "outputId": "be12042b-ebc3-417e-a666-f40a4f00fcbb"
      },
      "source": [
        "# ### Plotting \n",
        "# décalage de train (shift)\n",
        "past=100\n",
        "train_pred = np.empty_like(df)#Return a new array with the same shape and type as a given array.\n",
        "train_pred[:, :] =  np.nan#Numpy function to avoid NaN values\n",
        "train_pred[past:len(train_predict)+past, :] = train_predict\n",
        "# shift test predictions for plotting\n",
        "test_pred = np.empty_like(df)\n",
        "test_pred[:, :] = np.nan\n",
        "test_pred[len(train_predict)+(past*2)+1:len(df)-1, :] = test_predict\n",
        "# plot baseline and predictions\n",
        "\n",
        "plt.plot(scaler.inverse_transform(df))#blue my df\n",
        "plt.plot(train_pred)#orange :train prediction\n",
        "plt.plot(test_pred)#green : test prediction\n",
        "\n",
        "plt.show()"
      ],
      "execution_count": null,
      "outputs": [
        {
          "output_type": "display_data",
          "data": {
            "image/png": "[encoded data removed]",
            "text/plain": [
              "<Figure size 432x288 with 1 Axes>"
            ]
          },
          "metadata": {
            "tags": [],
            "needs_background": "light"
          }
        }
      ]
    },
    {
      "cell_type": "code",
      "metadata": {
        "id": "3uzQ6xXgDRvN",
        "colab": {
          "base_uri": "https://localhost:8080/",
          "height": 34
        },
        "outputId": "77e3896d-b1b4-4da7-e861-4ebf5e5adfc8"
      },
      "source": [
        "input=test_data[len(test_data)-past:].reshape(1,-1)\n",
        "input.shape"
      ],
      "execution_count": null,
      "outputs": [
        {
          "output_type": "execute_result",
          "data": {
            "text/plain": [
              "(1, 100)"
            ]
          },
          "metadata": {
            "tags": []
          },
          "execution_count": 72
        }
      ]
    },
    {
      "cell_type": "code",
      "metadata": {
        "id": "Js0AsQlbDRyK"
      },
      "source": [
        "temp_input=list(input)\n",
        "temp_input=temp_input[0].tolist()"
      ],
      "execution_count": null,
      "outputs": []
    },
    {
      "cell_type": "code",
      "metadata": {
        "id": "YT550Xu0DR07",
        "colab": {
          "base_uri": "https://localhost:8080/",
          "height": 1000
        },
        "outputId": "2a47cef1-85fe-4f8a-a5be-55a174f800e0"
      },
      "source": [
        "from numpy import array\n",
        "\n",
        "output=[]\n",
        "steps=100\n",
        "i=0\n",
        "while(i<30):\n",
        "    \n",
        "    if(len(temp_input)>100):\n",
        "        #print(temp_input)\n",
        "        input=np.array(temp_input[1:])\n",
        "        print(\"in the day {} our input is {}\".format(i,input))\n",
        "        input=input.reshape(1,-1)\n",
        "        input = input.reshape((1, steps, 1))\n",
        "        #print(input)\n",
        "        y_pred = model.predict(input, verbose=0)\n",
        "        print(\"in the day {} our output is {}\".format(i,y_pred))\n",
        "        temp_input.extend(y_pred[0].tolist())\n",
        "        temp_input=temp_input[1:]\n",
        "        #print(temp_input)\n",
        "        output.extend(y_pred.tolist())\n",
        "        i=i+1\n",
        "    else:\n",
        "        input = input.reshape((1, steps,1))\n",
        "        y_pred = model.predict(input, verbose=0)\n",
        "        print(y_pred[0])\n",
        "        temp_input.extend(y_pred[0].tolist())\n",
        "        print(len(temp_input))\n",
        "        output.extend(y_pred.tolist())\n",
        "        i=i+1\n",
        "    \n",
        "\n",
        "print(output)"
      ],
      "execution_count": null,
      "outputs": [
        {
          "output_type": "stream",
          "text": [
            "[0.47772813]\n",
            "101\n",
            "in the day 1 our input is [0.25566578 0.23572719 0.24686967 0.24754562 0.29782307 0.29822335\n",
            " 0.29749977 0.27877614 0.3097029  0.32650975 0.32367382 0.32554071\n",
            " 0.31252525 0.30051442 0.31041672 0.28361986 0.31088125 0.31975367\n",
            " 0.32961376 0.326435   0.33351366 0.32948209 0.35484639 0.34981383\n",
            " 0.35813492 0.35644577 0.33340632 0.33306805 0.33897882 0.33232686\n",
            " 0.33218914 0.32161824 0.34666816 0.34558005 0.35410147 0.35050039\n",
            " 0.3342752  0.33418891 0.34668944 0.36318116 0.36957571 0.37058021\n",
            " 0.37638135 0.38248869 0.38309332 0.43554624 0.42802725 0.43890923\n",
            " 0.44544382 0.44063494 0.4414363  0.44620761 0.46022831 0.49625782\n",
            " 0.4905136  0.47738587 0.43319228 0.4250321  0.43572774 0.46029298\n",
            " 0.48476454 0.46336476 0.46594083 0.48144092 0.48438741 0.48451738\n",
            " 0.47364364 0.4503602  0.45568029 0.4570898  0.43498318 0.44113446\n",
            " 0.43734121 0.45559799 0.47378979 0.46921843 0.48300687 0.47037594\n",
            " 0.50764308 0.47400366 0.48070099 0.48829569 0.48116619 0.48054067\n",
            " 0.48609071 0.48675756 0.48803518 0.49196103 0.46302618 0.47142001\n",
            " 0.47112627 0.46645663 0.46982942 0.47443747 0.47138894 0.46777868\n",
            " 0.4612445  0.46206832 0.48051336 0.47772813]\n",
            "in the day 1 our output is [[0.48111203]]\n",
            "in the day 2 our input is [0.23572719 0.24686967 0.24754562 0.29782307 0.29822335 0.29749977\n",
            " 0.27877614 0.3097029  0.32650975 0.32367382 0.32554071 0.31252525\n",
            " 0.30051442 0.31041672 0.28361986 0.31088125 0.31975367 0.32961376\n",
            " 0.326435   0.33351366 0.32948209 0.35484639 0.34981383 0.35813492\n",
            " 0.35644577 0.33340632 0.33306805 0.33897882 0.33232686 0.33218914\n",
            " 0.32161824 0.34666816 0.34558005 0.35410147 0.35050039 0.3342752\n",
            " 0.33418891 0.34668944 0.36318116 0.36957571 0.37058021 0.37638135\n",
            " 0.38248869 0.38309332 0.43554624 0.42802725 0.43890923 0.44544382\n",
            " 0.44063494 0.4414363  0.44620761 0.46022831 0.49625782 0.4905136\n",
            " 0.47738587 0.43319228 0.4250321  0.43572774 0.46029298 0.48476454\n",
            " 0.46336476 0.46594083 0.48144092 0.48438741 0.48451738 0.47364364\n",
            " 0.4503602  0.45568029 0.4570898  0.43498318 0.44113446 0.43734121\n",
            " 0.45559799 0.47378979 0.46921843 0.48300687 0.47037594 0.50764308\n",
            " 0.47400366 0.48070099 0.48829569 0.48116619 0.48054067 0.48609071\n",
            " 0.48675756 0.48803518 0.49196103 0.46302618 0.47142001 0.47112627\n",
            " 0.46645663 0.46982942 0.47443747 0.47138894 0.46777868 0.4612445\n",
            " 0.46206832 0.48051336 0.47772813 0.48111203]\n",
            "in the day 2 our output is [[0.4830939]]\n",
            "in the day 3 our input is [0.24686967 0.24754562 0.29782307 0.29822335 0.29749977 0.27877614\n",
            " 0.3097029  0.32650975 0.32367382 0.32554071 0.31252525 0.30051442\n",
            " 0.31041672 0.28361986 0.31088125 0.31975367 0.32961376 0.326435\n",
            " 0.33351366 0.32948209 0.35484639 0.34981383 0.35813492 0.35644577\n",
            " 0.33340632 0.33306805 0.33897882 0.33232686 0.33218914 0.32161824\n",
            " 0.34666816 0.34558005 0.35410147 0.35050039 0.3342752  0.33418891\n",
            " 0.34668944 0.36318116 0.36957571 0.37058021 0.37638135 0.38248869\n",
            " 0.38309332 0.43554624 0.42802725 0.43890923 0.44544382 0.44063494\n",
            " 0.4414363  0.44620761 0.46022831 0.49625782 0.4905136  0.47738587\n",
            " 0.43319228 0.4250321  0.43572774 0.46029298 0.48476454 0.46336476\n",
            " 0.46594083 0.48144092 0.48438741 0.48451738 0.47364364 0.4503602\n",
            " 0.45568029 0.4570898  0.43498318 0.44113446 0.43734121 0.45559799\n",
            " 0.47378979 0.46921843 0.48300687 0.47037594 0.50764308 0.47400366\n",
            " 0.48070099 0.48829569 0.48116619 0.48054067 0.48609071 0.48675756\n",
            " 0.48803518 0.49196103 0.46302618 0.47142001 0.47112627 0.46645663\n",
            " 0.46982942 0.47443747 0.47138894 0.46777868 0.4612445  0.46206832\n",
            " 0.48051336 0.47772813 0.48111203 0.48309389]\n",
            "in the day 3 our output is [[0.48474053]]\n",
            "in the day 4 our input is [0.24754562 0.29782307 0.29822335 0.29749977 0.27877614 0.3097029\n",
            " 0.32650975 0.32367382 0.32554071 0.31252525 0.30051442 0.31041672\n",
            " 0.28361986 0.31088125 0.31975367 0.32961376 0.326435   0.33351366\n",
            " 0.32948209 0.35484639 0.34981383 0.35813492 0.35644577 0.33340632\n",
            " 0.33306805 0.33897882 0.33232686 0.33218914 0.32161824 0.34666816\n",
            " 0.34558005 0.35410147 0.35050039 0.3342752  0.33418891 0.34668944\n",
            " 0.36318116 0.36957571 0.37058021 0.37638135 0.38248869 0.38309332\n",
            " 0.43554624 0.42802725 0.43890923 0.44544382 0.44063494 0.4414363\n",
            " 0.44620761 0.46022831 0.49625782 0.4905136  0.47738587 0.43319228\n",
            " 0.4250321  0.43572774 0.46029298 0.48476454 0.46336476 0.46594083\n",
            " 0.48144092 0.48438741 0.48451738 0.47364364 0.4503602  0.45568029\n",
            " 0.4570898  0.43498318 0.44113446 0.43734121 0.45559799 0.47378979\n",
            " 0.46921843 0.48300687 0.47037594 0.50764308 0.47400366 0.48070099\n",
            " 0.48829569 0.48116619 0.48054067 0.48609071 0.48675756 0.48803518\n",
            " 0.49196103 0.46302618 0.47142001 0.47112627 0.46645663 0.46982942\n",
            " 0.47443747 0.47138894 0.46777868 0.4612445  0.46206832 0.48051336\n",
            " 0.47772813 0.48111203 0.48309389 0.48474053]\n",
            "in the day 4 our output is [[0.4861903]]\n",
            "in the day 5 our input is [0.29782307 0.29822335 0.29749977 0.27877614 0.3097029  0.32650975\n",
            " 0.32367382 0.32554071 0.31252525 0.30051442 0.31041672 0.28361986\n",
            " 0.31088125 0.31975367 0.32961376 0.326435   0.33351366 0.32948209\n",
            " 0.35484639 0.34981383 0.35813492 0.35644577 0.33340632 0.33306805\n",
            " 0.33897882 0.33232686 0.33218914 0.32161824 0.34666816 0.34558005\n",
            " 0.35410147 0.35050039 0.3342752  0.33418891 0.34668944 0.36318116\n",
            " 0.36957571 0.37058021 0.37638135 0.38248869 0.38309332 0.43554624\n",
            " 0.42802725 0.43890923 0.44544382 0.44063494 0.4414363  0.44620761\n",
            " 0.46022831 0.49625782 0.4905136  0.47738587 0.43319228 0.4250321\n",
            " 0.43572774 0.46029298 0.48476454 0.46336476 0.46594083 0.48144092\n",
            " 0.48438741 0.48451738 0.47364364 0.4503602  0.45568029 0.4570898\n",
            " 0.43498318 0.44113446 0.43734121 0.45559799 0.47378979 0.46921843\n",
            " 0.48300687 0.47037594 0.50764308 0.47400366 0.48070099 0.48829569\n",
            " 0.48116619 0.48054067 0.48609071 0.48675756 0.48803518 0.49196103\n",
            " 0.46302618 0.47142001 0.47112627 0.46645663 0.46982942 0.47443747\n",
            " 0.47138894 0.46777868 0.4612445  0.46206832 0.48051336 0.47772813\n",
            " 0.48111203 0.48309389 0.48474053 0.48619029]\n",
            "in the day 5 our output is [[0.48756054]]\n",
            "in the day 6 our input is [0.29822335 0.29749977 0.27877614 0.3097029  0.32650975 0.32367382\n",
            " 0.32554071 0.31252525 0.30051442 0.31041672 0.28361986 0.31088125\n",
            " 0.31975367 0.32961376 0.326435   0.33351366 0.32948209 0.35484639\n",
            " 0.34981383 0.35813492 0.35644577 0.33340632 0.33306805 0.33897882\n",
            " 0.33232686 0.33218914 0.32161824 0.34666816 0.34558005 0.35410147\n",
            " 0.35050039 0.3342752  0.33418891 0.34668944 0.36318116 0.36957571\n",
            " 0.37058021 0.37638135 0.38248869 0.38309332 0.43554624 0.42802725\n",
            " 0.43890923 0.44544382 0.44063494 0.4414363  0.44620761 0.46022831\n",
            " 0.49625782 0.4905136  0.47738587 0.43319228 0.4250321  0.43572774\n",
            " 0.46029298 0.48476454 0.46336476 0.46594083 0.48144092 0.48438741\n",
            " 0.48451738 0.47364364 0.4503602  0.45568029 0.4570898  0.43498318\n",
            " 0.44113446 0.43734121 0.45559799 0.47378979 0.46921843 0.48300687\n",
            " 0.47037594 0.50764308 0.47400366 0.48070099 0.48829569 0.48116619\n",
            " 0.48054067 0.48609071 0.48675756 0.48803518 0.49196103 0.46302618\n",
            " 0.47142001 0.47112627 0.46645663 0.46982942 0.47443747 0.47138894\n",
            " 0.46777868 0.4612445  0.46206832 0.48051336 0.47772813 0.48111203\n",
            " 0.48309389 0.48474053 0.48619029 0.48756054]\n",
            "in the day 6 our output is [[0.48894095]]\n",
            "in the day 7 our input is [0.29749977 0.27877614 0.3097029  0.32650975 0.32367382 0.32554071\n",
            " 0.31252525 0.30051442 0.31041672 0.28361986 0.31088125 0.31975367\n",
            " 0.32961376 0.326435   0.33351366 0.32948209 0.35484639 0.34981383\n",
            " 0.35813492 0.35644577 0.33340632 0.33306805 0.33897882 0.33232686\n",
            " 0.33218914 0.32161824 0.34666816 0.34558005 0.35410147 0.35050039\n",
            " 0.3342752  0.33418891 0.34668944 0.36318116 0.36957571 0.37058021\n",
            " 0.37638135 0.38248869 0.38309332 0.43554624 0.42802725 0.43890923\n",
            " 0.44544382 0.44063494 0.4414363  0.44620761 0.46022831 0.49625782\n",
            " 0.4905136  0.47738587 0.43319228 0.4250321  0.43572774 0.46029298\n",
            " 0.48476454 0.46336476 0.46594083 0.48144092 0.48438741 0.48451738\n",
            " 0.47364364 0.4503602  0.45568029 0.4570898  0.43498318 0.44113446\n",
            " 0.43734121 0.45559799 0.47378979 0.46921843 0.48300687 0.47037594\n",
            " 0.50764308 0.47400366 0.48070099 0.48829569 0.48116619 0.48054067\n",
            " 0.48609071 0.48675756 0.48803518 0.49196103 0.46302618 0.47142001\n",
            " 0.47112627 0.46645663 0.46982942 0.47443747 0.47138894 0.46777868\n",
            " 0.4612445  0.46206832 0.48051336 0.47772813 0.48111203 0.48309389\n",
            " 0.48474053 0.48619029 0.48756054 0.48894095]\n",
            "in the day 7 our output is [[0.4903762]]\n",
            "in the day 8 our input is [0.27877614 0.3097029  0.32650975 0.32367382 0.32554071 0.31252525\n",
            " 0.30051442 0.31041672 0.28361986 0.31088125 0.31975367 0.32961376\n",
            " 0.326435   0.33351366 0.32948209 0.35484639 0.34981383 0.35813492\n",
            " 0.35644577 0.33340632 0.33306805 0.33897882 0.33232686 0.33218914\n",
            " 0.32161824 0.34666816 0.34558005 0.35410147 0.35050039 0.3342752\n",
            " 0.33418891 0.34668944 0.36318116 0.36957571 0.37058021 0.37638135\n",
            " 0.38248869 0.38309332 0.43554624 0.42802725 0.43890923 0.44544382\n",
            " 0.44063494 0.4414363  0.44620761 0.46022831 0.49625782 0.4905136\n",
            " 0.47738587 0.43319228 0.4250321  0.43572774 0.46029298 0.48476454\n",
            " 0.46336476 0.46594083 0.48144092 0.48438741 0.48451738 0.47364364\n",
            " 0.4503602  0.45568029 0.4570898  0.43498318 0.44113446 0.43734121\n",
            " 0.45559799 0.47378979 0.46921843 0.48300687 0.47037594 0.50764308\n",
            " 0.47400366 0.48070099 0.48829569 0.48116619 0.48054067 0.48609071\n",
            " 0.48675756 0.48803518 0.49196103 0.46302618 0.47142001 0.47112627\n",
            " 0.46645663 0.46982942 0.47443747 0.47138894 0.46777868 0.4612445\n",
            " 0.46206832 0.48051336 0.47772813 0.48111203 0.48309389 0.48474053\n",
            " 0.48619029 0.48756054 0.48894095 0.4903762 ]\n",
            "in the day 8 our output is [[0.49186927]]\n",
            "in the day 9 our input is [0.3097029  0.32650975 0.32367382 0.32554071 0.31252525 0.30051442\n",
            " 0.31041672 0.28361986 0.31088125 0.31975367 0.32961376 0.326435\n",
            " 0.33351366 0.32948209 0.35484639 0.34981383 0.35813492 0.35644577\n",
            " 0.33340632 0.33306805 0.33897882 0.33232686 0.33218914 0.32161824\n",
            " 0.34666816 0.34558005 0.35410147 0.35050039 0.3342752  0.33418891\n",
            " 0.34668944 0.36318116 0.36957571 0.37058021 0.37638135 0.38248869\n",
            " 0.38309332 0.43554624 0.42802725 0.43890923 0.44544382 0.44063494\n",
            " 0.4414363  0.44620761 0.46022831 0.49625782 0.4905136  0.47738587\n",
            " 0.43319228 0.4250321  0.43572774 0.46029298 0.48476454 0.46336476\n",
            " 0.46594083 0.48144092 0.48438741 0.48451738 0.47364364 0.4503602\n",
            " 0.45568029 0.4570898  0.43498318 0.44113446 0.43734121 0.45559799\n",
            " 0.47378979 0.46921843 0.48300687 0.47037594 0.50764308 0.47400366\n",
            " 0.48070099 0.48829569 0.48116619 0.48054067 0.48609071 0.48675756\n",
            " 0.48803518 0.49196103 0.46302618 0.47142001 0.47112627 0.46645663\n",
            " 0.46982942 0.47443747 0.47138894 0.46777868 0.4612445  0.46206832\n",
            " 0.48051336 0.47772813 0.48111203 0.48309389 0.48474053 0.48619029\n",
            " 0.48756054 0.48894095 0.4903762  0.49186927]\n",
            "in the day 9 our output is [[0.49339464]]\n",
            "in the day 10 our input is [0.32650975 0.32367382 0.32554071 0.31252525 0.30051442 0.31041672\n",
            " 0.28361986 0.31088125 0.31975367 0.32961376 0.326435   0.33351366\n",
            " 0.32948209 0.35484639 0.34981383 0.35813492 0.35644577 0.33340632\n",
            " 0.33306805 0.33897882 0.33232686 0.33218914 0.32161824 0.34666816\n",
            " 0.34558005 0.35410147 0.35050039 0.3342752  0.33418891 0.34668944\n",
            " 0.36318116 0.36957571 0.37058021 0.37638135 0.38248869 0.38309332\n",
            " 0.43554624 0.42802725 0.43890923 0.44544382 0.44063494 0.4414363\n",
            " 0.44620761 0.46022831 0.49625782 0.4905136  0.47738587 0.43319228\n",
            " 0.4250321  0.43572774 0.46029298 0.48476454 0.46336476 0.46594083\n",
            " 0.48144092 0.48438741 0.48451738 0.47364364 0.4503602  0.45568029\n",
            " 0.4570898  0.43498318 0.44113446 0.43734121 0.45559799 0.47378979\n",
            " 0.46921843 0.48300687 0.47037594 0.50764308 0.47400366 0.48070099\n",
            " 0.48829569 0.48116619 0.48054067 0.48609071 0.48675756 0.48803518\n",
            " 0.49196103 0.46302618 0.47142001 0.47112627 0.46645663 0.46982942\n",
            " 0.47443747 0.47138894 0.46777868 0.4612445  0.46206832 0.48051336\n",
            " 0.47772813 0.48111203 0.48309389 0.48474053 0.48619029 0.48756054\n",
            " 0.48894095 0.4903762  0.49186927 0.49339464]\n",
            "in the day 10 our output is [[0.49491265]]\n",
            "in the day 11 our input is [0.32367382 0.32554071 0.31252525 0.30051442 0.31041672 0.28361986\n",
            " 0.31088125 0.31975367 0.32961376 0.326435   0.33351366 0.32948209\n",
            " 0.35484639 0.34981383 0.35813492 0.35644577 0.33340632 0.33306805\n",
            " 0.33897882 0.33232686 0.33218914 0.32161824 0.34666816 0.34558005\n",
            " 0.35410147 0.35050039 0.3342752  0.33418891 0.34668944 0.36318116\n",
            " 0.36957571 0.37058021 0.37638135 0.38248869 0.38309332 0.43554624\n",
            " 0.42802725 0.43890923 0.44544382 0.44063494 0.4414363  0.44620761\n",
            " 0.46022831 0.49625782 0.4905136  0.47738587 0.43319228 0.4250321\n",
            " 0.43572774 0.46029298 0.48476454 0.46336476 0.46594083 0.48144092\n",
            " 0.48438741 0.48451738 0.47364364 0.4503602  0.45568029 0.4570898\n",
            " 0.43498318 0.44113446 0.43734121 0.45559799 0.47378979 0.46921843\n",
            " 0.48300687 0.47037594 0.50764308 0.47400366 0.48070099 0.48829569\n",
            " 0.48116619 0.48054067 0.48609071 0.48675756 0.48803518 0.49196103\n",
            " 0.46302618 0.47142001 0.47112627 0.46645663 0.46982942 0.47443747\n",
            " 0.47138894 0.46777868 0.4612445  0.46206832 0.48051336 0.47772813\n",
            " 0.48111203 0.48309389 0.48474053 0.48619029 0.48756054 0.48894095\n",
            " 0.4903762  0.49186927 0.49339464 0.49491265]\n",
            "in the day 11 our output is [[0.49638242]]\n",
            "in the day 12 our input is [0.32554071 0.31252525 0.30051442 0.31041672 0.28361986 0.31088125\n",
            " 0.31975367 0.32961376 0.326435   0.33351366 0.32948209 0.35484639\n",
            " 0.34981383 0.35813492 0.35644577 0.33340632 0.33306805 0.33897882\n",
            " 0.33232686 0.33218914 0.32161824 0.34666816 0.34558005 0.35410147\n",
            " 0.35050039 0.3342752  0.33418891 0.34668944 0.36318116 0.36957571\n",
            " 0.37058021 0.37638135 0.38248869 0.38309332 0.43554624 0.42802725\n",
            " 0.43890923 0.44544382 0.44063494 0.4414363  0.44620761 0.46022831\n",
            " 0.49625782 0.4905136  0.47738587 0.43319228 0.4250321  0.43572774\n",
            " 0.46029298 0.48476454 0.46336476 0.46594083 0.48144092 0.48438741\n",
            " 0.48451738 0.47364364 0.4503602  0.45568029 0.4570898  0.43498318\n",
            " 0.44113446 0.43734121 0.45559799 0.47378979 0.46921843 0.48300687\n",
            " 0.47037594 0.50764308 0.47400366 0.48070099 0.48829569 0.48116619\n",
            " 0.48054067 0.48609071 0.48675756 0.48803518 0.49196103 0.46302618\n",
            " 0.47142001 0.47112627 0.46645663 0.46982942 0.47443747 0.47138894\n",
            " 0.46777868 0.4612445  0.46206832 0.48051336 0.47772813 0.48111203\n",
            " 0.48309389 0.48474053 0.48619029 0.48756054 0.48894095 0.4903762\n",
            " 0.49186927 0.49339464 0.49491265 0.49638242]\n",
            "in the day 12 our output is [[0.49777016]]\n",
            "in the day 13 our input is [0.31252525 0.30051442 0.31041672 0.28361986 0.31088125 0.31975367\n",
            " 0.32961376 0.326435   0.33351366 0.32948209 0.35484639 0.34981383\n",
            " 0.35813492 0.35644577 0.33340632 0.33306805 0.33897882 0.33232686\n",
            " 0.33218914 0.32161824 0.34666816 0.34558005 0.35410147 0.35050039\n",
            " 0.3342752  0.33418891 0.34668944 0.36318116 0.36957571 0.37058021\n",
            " 0.37638135 0.38248869 0.38309332 0.43554624 0.42802725 0.43890923\n",
            " 0.44544382 0.44063494 0.4414363  0.44620761 0.46022831 0.49625782\n",
            " 0.4905136  0.47738587 0.43319228 0.4250321  0.43572774 0.46029298\n",
            " 0.48476454 0.46336476 0.46594083 0.48144092 0.48438741 0.48451738\n",
            " 0.47364364 0.4503602  0.45568029 0.4570898  0.43498318 0.44113446\n",
            " 0.43734121 0.45559799 0.47378979 0.46921843 0.48300687 0.47037594\n",
            " 0.50764308 0.47400366 0.48070099 0.48829569 0.48116619 0.48054067\n",
            " 0.48609071 0.48675756 0.48803518 0.49196103 0.46302618 0.47142001\n",
            " 0.47112627 0.46645663 0.46982942 0.47443747 0.47138894 0.46777868\n",
            " 0.4612445  0.46206832 0.48051336 0.47772813 0.48111203 0.48309389\n",
            " 0.48474053 0.48619029 0.48756054 0.48894095 0.4903762  0.49186927\n",
            " 0.49339464 0.49491265 0.49638242 0.49777016]\n",
            "in the day 13 our output is [[0.49905458]]\n",
            "in the day 14 our input is [0.30051442 0.31041672 0.28361986 0.31088125 0.31975367 0.32961376\n",
            " 0.326435   0.33351366 0.32948209 0.35484639 0.34981383 0.35813492\n",
            " 0.35644577 0.33340632 0.33306805 0.33897882 0.33232686 0.33218914\n",
            " 0.32161824 0.34666816 0.34558005 0.35410147 0.35050039 0.3342752\n",
            " 0.33418891 0.34668944 0.36318116 0.36957571 0.37058021 0.37638135\n",
            " 0.38248869 0.38309332 0.43554624 0.42802725 0.43890923 0.44544382\n",
            " 0.44063494 0.4414363  0.44620761 0.46022831 0.49625782 0.4905136\n",
            " 0.47738587 0.43319228 0.4250321  0.43572774 0.46029298 0.48476454\n",
            " 0.46336476 0.46594083 0.48144092 0.48438741 0.48451738 0.47364364\n",
            " 0.4503602  0.45568029 0.4570898  0.43498318 0.44113446 0.43734121\n",
            " 0.45559799 0.47378979 0.46921843 0.48300687 0.47037594 0.50764308\n",
            " 0.47400366 0.48070099 0.48829569 0.48116619 0.48054067 0.48609071\n",
            " 0.48675756 0.48803518 0.49196103 0.46302618 0.47142001 0.47112627\n",
            " 0.46645663 0.46982942 0.47443747 0.47138894 0.46777868 0.4612445\n",
            " 0.46206832 0.48051336 0.47772813 0.48111203 0.48309389 0.48474053\n",
            " 0.48619029 0.48756054 0.48894095 0.4903762  0.49186927 0.49339464\n",
            " 0.49491265 0.49638242 0.49777016 0.49905458]\n",
            "in the day 14 our output is [[0.500227]]\n",
            "in the day 15 our input is [0.31041672 0.28361986 0.31088125 0.31975367 0.32961376 0.326435\n",
            " 0.33351366 0.32948209 0.35484639 0.34981383 0.35813492 0.35644577\n",
            " 0.33340632 0.33306805 0.33897882 0.33232686 0.33218914 0.32161824\n",
            " 0.34666816 0.34558005 0.35410147 0.35050039 0.3342752  0.33418891\n",
            " 0.34668944 0.36318116 0.36957571 0.37058021 0.37638135 0.38248869\n",
            " 0.38309332 0.43554624 0.42802725 0.43890923 0.44544382 0.44063494\n",
            " 0.4414363  0.44620761 0.46022831 0.49625782 0.4905136  0.47738587\n",
            " 0.43319228 0.4250321  0.43572774 0.46029298 0.48476454 0.46336476\n",
            " 0.46594083 0.48144092 0.48438741 0.48451738 0.47364364 0.4503602\n",
            " 0.45568029 0.4570898  0.43498318 0.44113446 0.43734121 0.45559799\n",
            " 0.47378979 0.46921843 0.48300687 0.47037594 0.50764308 0.47400366\n",
            " 0.48070099 0.48829569 0.48116619 0.48054067 0.48609071 0.48675756\n",
            " 0.48803518 0.49196103 0.46302618 0.47142001 0.47112627 0.46645663\n",
            " 0.46982942 0.47443747 0.47138894 0.46777868 0.4612445  0.46206832\n",
            " 0.48051336 0.47772813 0.48111203 0.48309389 0.48474053 0.48619029\n",
            " 0.48756054 0.48894095 0.4903762  0.49186927 0.49339464 0.49491265\n",
            " 0.49638242 0.49777016 0.49905458 0.50022697]\n",
            "in the day 15 our output is [[0.50128984]]\n",
            "in the day 16 our input is [0.28361986 0.31088125 0.31975367 0.32961376 0.326435   0.33351366\n",
            " 0.32948209 0.35484639 0.34981383 0.35813492 0.35644577 0.33340632\n",
            " 0.33306805 0.33897882 0.33232686 0.33218914 0.32161824 0.34666816\n",
            " 0.34558005 0.35410147 0.35050039 0.3342752  0.33418891 0.34668944\n",
            " 0.36318116 0.36957571 0.37058021 0.37638135 0.38248869 0.38309332\n",
            " 0.43554624 0.42802725 0.43890923 0.44544382 0.44063494 0.4414363\n",
            " 0.44620761 0.46022831 0.49625782 0.4905136  0.47738587 0.43319228\n",
            " 0.4250321  0.43572774 0.46029298 0.48476454 0.46336476 0.46594083\n",
            " 0.48144092 0.48438741 0.48451738 0.47364364 0.4503602  0.45568029\n",
            " 0.4570898  0.43498318 0.44113446 0.43734121 0.45559799 0.47378979\n",
            " 0.46921843 0.48300687 0.47037594 0.50764308 0.47400366 0.48070099\n",
            " 0.48829569 0.48116619 0.48054067 0.48609071 0.48675756 0.48803518\n",
            " 0.49196103 0.46302618 0.47142001 0.47112627 0.46645663 0.46982942\n",
            " 0.47443747 0.47138894 0.46777868 0.4612445  0.46206832 0.48051336\n",
            " 0.47772813 0.48111203 0.48309389 0.48474053 0.48619029 0.48756054\n",
            " 0.48894095 0.4903762  0.49186927 0.49339464 0.49491265 0.49638242\n",
            " 0.49777016 0.49905458 0.50022697 0.50128984]\n",
            "in the day 16 our output is [[0.50225353]]\n",
            "in the day 17 our input is [0.31088125 0.31975367 0.32961376 0.326435   0.33351366 0.32948209\n",
            " 0.35484639 0.34981383 0.35813492 0.35644577 0.33340632 0.33306805\n",
            " 0.33897882 0.33232686 0.33218914 0.32161824 0.34666816 0.34558005\n",
            " 0.35410147 0.35050039 0.3342752  0.33418891 0.34668944 0.36318116\n",
            " 0.36957571 0.37058021 0.37638135 0.38248869 0.38309332 0.43554624\n",
            " 0.42802725 0.43890923 0.44544382 0.44063494 0.4414363  0.44620761\n",
            " 0.46022831 0.49625782 0.4905136  0.47738587 0.43319228 0.4250321\n",
            " 0.43572774 0.46029298 0.48476454 0.46336476 0.46594083 0.48144092\n",
            " 0.48438741 0.48451738 0.47364364 0.4503602  0.45568029 0.4570898\n",
            " 0.43498318 0.44113446 0.43734121 0.45559799 0.47378979 0.46921843\n",
            " 0.48300687 0.47037594 0.50764308 0.47400366 0.48070099 0.48829569\n",
            " 0.48116619 0.48054067 0.48609071 0.48675756 0.48803518 0.49196103\n",
            " 0.46302618 0.47142001 0.47112627 0.46645663 0.46982942 0.47443747\n",
            " 0.47138894 0.46777868 0.4612445  0.46206832 0.48051336 0.47772813\n",
            " 0.48111203 0.48309389 0.48474053 0.48619029 0.48756054 0.48894095\n",
            " 0.4903762  0.49186927 0.49339464 0.49491265 0.49638242 0.49777016\n",
            " 0.49905458 0.50022697 0.50128984 0.50225353]\n",
            "in the day 17 our output is [[0.5031323]]\n",
            "in the day 18 our input is [0.31975367 0.32961376 0.326435   0.33351366 0.32948209 0.35484639\n",
            " 0.34981383 0.35813492 0.35644577 0.33340632 0.33306805 0.33897882\n",
            " 0.33232686 0.33218914 0.32161824 0.34666816 0.34558005 0.35410147\n",
            " 0.35050039 0.3342752  0.33418891 0.34668944 0.36318116 0.36957571\n",
            " 0.37058021 0.37638135 0.38248869 0.38309332 0.43554624 0.42802725\n",
            " 0.43890923 0.44544382 0.44063494 0.4414363  0.44620761 0.46022831\n",
            " 0.49625782 0.4905136  0.47738587 0.43319228 0.4250321  0.43572774\n",
            " 0.46029298 0.48476454 0.46336476 0.46594083 0.48144092 0.48438741\n",
            " 0.48451738 0.47364364 0.4503602  0.45568029 0.4570898  0.43498318\n",
            " 0.44113446 0.43734121 0.45559799 0.47378979 0.46921843 0.48300687\n",
            " 0.47037594 0.50764308 0.47400366 0.48070099 0.48829569 0.48116619\n",
            " 0.48054067 0.48609071 0.48675756 0.48803518 0.49196103 0.46302618\n",
            " 0.47142001 0.47112627 0.46645663 0.46982942 0.47443747 0.47138894\n",
            " 0.46777868 0.4612445  0.46206832 0.48051336 0.47772813 0.48111203\n",
            " 0.48309389 0.48474053 0.48619029 0.48756054 0.48894095 0.4903762\n",
            " 0.49186927 0.49339464 0.49491265 0.49638242 0.49777016 0.49905458\n",
            " 0.50022697 0.50128984 0.50225353 0.50313228]\n",
            "in the day 18 our output is [[0.50394166]]\n",
            "in the day 19 our input is [0.32961376 0.326435   0.33351366 0.32948209 0.35484639 0.34981383\n",
            " 0.35813492 0.35644577 0.33340632 0.33306805 0.33897882 0.33232686\n",
            " 0.33218914 0.32161824 0.34666816 0.34558005 0.35410147 0.35050039\n",
            " 0.3342752  0.33418891 0.34668944 0.36318116 0.36957571 0.37058021\n",
            " 0.37638135 0.38248869 0.38309332 0.43554624 0.42802725 0.43890923\n",
            " 0.44544382 0.44063494 0.4414363  0.44620761 0.46022831 0.49625782\n",
            " 0.4905136  0.47738587 0.43319228 0.4250321  0.43572774 0.46029298\n",
            " 0.48476454 0.46336476 0.46594083 0.48144092 0.48438741 0.48451738\n",
            " 0.47364364 0.4503602  0.45568029 0.4570898  0.43498318 0.44113446\n",
            " 0.43734121 0.45559799 0.47378979 0.46921843 0.48300687 0.47037594\n",
            " 0.50764308 0.47400366 0.48070099 0.48829569 0.48116619 0.48054067\n",
            " 0.48609071 0.48675756 0.48803518 0.49196103 0.46302618 0.47142001\n",
            " 0.47112627 0.46645663 0.46982942 0.47443747 0.47138894 0.46777868\n",
            " 0.4612445  0.46206832 0.48051336 0.47772813 0.48111203 0.48309389\n",
            " 0.48474053 0.48619029 0.48756054 0.48894095 0.4903762  0.49186927\n",
            " 0.49339464 0.49491265 0.49638242 0.49777016 0.49905458 0.50022697\n",
            " 0.50128984 0.50225353 0.50313228 0.50394166]\n",
            "in the day 19 our output is [[0.50469553]]\n",
            "in the day 20 our input is [0.326435   0.33351366 0.32948209 0.35484639 0.34981383 0.35813492\n",
            " 0.35644577 0.33340632 0.33306805 0.33897882 0.33232686 0.33218914\n",
            " 0.32161824 0.34666816 0.34558005 0.35410147 0.35050039 0.3342752\n",
            " 0.33418891 0.34668944 0.36318116 0.36957571 0.37058021 0.37638135\n",
            " 0.38248869 0.38309332 0.43554624 0.42802725 0.43890923 0.44544382\n",
            " 0.44063494 0.4414363  0.44620761 0.46022831 0.49625782 0.4905136\n",
            " 0.47738587 0.43319228 0.4250321  0.43572774 0.46029298 0.48476454\n",
            " 0.46336476 0.46594083 0.48144092 0.48438741 0.48451738 0.47364364\n",
            " 0.4503602  0.45568029 0.4570898  0.43498318 0.44113446 0.43734121\n",
            " 0.45559799 0.47378979 0.46921843 0.48300687 0.47037594 0.50764308\n",
            " 0.47400366 0.48070099 0.48829569 0.48116619 0.48054067 0.48609071\n",
            " 0.48675756 0.48803518 0.49196103 0.46302618 0.47142001 0.47112627\n",
            " 0.46645663 0.46982942 0.47443747 0.47138894 0.46777868 0.4612445\n",
            " 0.46206832 0.48051336 0.47772813 0.48111203 0.48309389 0.48474053\n",
            " 0.48619029 0.48756054 0.48894095 0.4903762  0.49186927 0.49339464\n",
            " 0.49491265 0.49638242 0.49777016 0.49905458 0.50022697 0.50128984\n",
            " 0.50225353 0.50313228 0.50394166 0.50469553]\n",
            "in the day 20 our output is [[0.505405]]\n",
            "in the day 21 our input is [0.33351366 0.32948209 0.35484639 0.34981383 0.35813492 0.35644577\n",
            " 0.33340632 0.33306805 0.33897882 0.33232686 0.33218914 0.32161824\n",
            " 0.34666816 0.34558005 0.35410147 0.35050039 0.3342752  0.33418891\n",
            " 0.34668944 0.36318116 0.36957571 0.37058021 0.37638135 0.38248869\n",
            " 0.38309332 0.43554624 0.42802725 0.43890923 0.44544382 0.44063494\n",
            " 0.4414363  0.44620761 0.46022831 0.49625782 0.4905136  0.47738587\n",
            " 0.43319228 0.4250321  0.43572774 0.46029298 0.48476454 0.46336476\n",
            " 0.46594083 0.48144092 0.48438741 0.48451738 0.47364364 0.4503602\n",
            " 0.45568029 0.4570898  0.43498318 0.44113446 0.43734121 0.45559799\n",
            " 0.47378979 0.46921843 0.48300687 0.47037594 0.50764308 0.47400366\n",
            " 0.48070099 0.48829569 0.48116619 0.48054067 0.48609071 0.48675756\n",
            " 0.48803518 0.49196103 0.46302618 0.47142001 0.47112627 0.46645663\n",
            " 0.46982942 0.47443747 0.47138894 0.46777868 0.4612445  0.46206832\n",
            " 0.48051336 0.47772813 0.48111203 0.48309389 0.48474053 0.48619029\n",
            " 0.48756054 0.48894095 0.4903762  0.49186927 0.49339464 0.49491265\n",
            " 0.49638242 0.49777016 0.49905458 0.50022697 0.50128984 0.50225353\n",
            " 0.50313228 0.50394166 0.50469553 0.50540501]\n",
            "in the day 21 our output is [[0.50607824]]\n",
            "in the day 22 our input is [0.32948209 0.35484639 0.34981383 0.35813492 0.35644577 0.33340632\n",
            " 0.33306805 0.33897882 0.33232686 0.33218914 0.32161824 0.34666816\n",
            " 0.34558005 0.35410147 0.35050039 0.3342752  0.33418891 0.34668944\n",
            " 0.36318116 0.36957571 0.37058021 0.37638135 0.38248869 0.38309332\n",
            " 0.43554624 0.42802725 0.43890923 0.44544382 0.44063494 0.4414363\n",
            " 0.44620761 0.46022831 0.49625782 0.4905136  0.47738587 0.43319228\n",
            " 0.4250321  0.43572774 0.46029298 0.48476454 0.46336476 0.46594083\n",
            " 0.48144092 0.48438741 0.48451738 0.47364364 0.4503602  0.45568029\n",
            " 0.4570898  0.43498318 0.44113446 0.43734121 0.45559799 0.47378979\n",
            " 0.46921843 0.48300687 0.47037594 0.50764308 0.47400366 0.48070099\n",
            " 0.48829569 0.48116619 0.48054067 0.48609071 0.48675756 0.48803518\n",
            " 0.49196103 0.46302618 0.47142001 0.47112627 0.46645663 0.46982942\n",
            " 0.47443747 0.47138894 0.46777868 0.4612445  0.46206832 0.48051336\n",
            " 0.47772813 0.48111203 0.48309389 0.48474053 0.48619029 0.48756054\n",
            " 0.48894095 0.4903762  0.49186927 0.49339464 0.49491265 0.49638242\n",
            " 0.49777016 0.49905458 0.50022697 0.50128984 0.50225353 0.50313228\n",
            " 0.50394166 0.50469553 0.50540501 0.50607824]\n",
            "in the day 22 our output is [[0.50672024]]\n",
            "in the day 23 our input is [0.35484639 0.34981383 0.35813492 0.35644577 0.33340632 0.33306805\n",
            " 0.33897882 0.33232686 0.33218914 0.32161824 0.34666816 0.34558005\n",
            " 0.35410147 0.35050039 0.3342752  0.33418891 0.34668944 0.36318116\n",
            " 0.36957571 0.37058021 0.37638135 0.38248869 0.38309332 0.43554624\n",
            " 0.42802725 0.43890923 0.44544382 0.44063494 0.4414363  0.44620761\n",
            " 0.46022831 0.49625782 0.4905136  0.47738587 0.43319228 0.4250321\n",
            " 0.43572774 0.46029298 0.48476454 0.46336476 0.46594083 0.48144092\n",
            " 0.48438741 0.48451738 0.47364364 0.4503602  0.45568029 0.4570898\n",
            " 0.43498318 0.44113446 0.43734121 0.45559799 0.47378979 0.46921843\n",
            " 0.48300687 0.47037594 0.50764308 0.47400366 0.48070099 0.48829569\n",
            " 0.48116619 0.48054067 0.48609071 0.48675756 0.48803518 0.49196103\n",
            " 0.46302618 0.47142001 0.47112627 0.46645663 0.46982942 0.47443747\n",
            " 0.47138894 0.46777868 0.4612445  0.46206832 0.48051336 0.47772813\n",
            " 0.48111203 0.48309389 0.48474053 0.48619029 0.48756054 0.48894095\n",
            " 0.4903762  0.49186927 0.49339464 0.49491265 0.49638242 0.49777016\n",
            " 0.49905458 0.50022697 0.50128984 0.50225353 0.50313228 0.50394166\n",
            " 0.50469553 0.50540501 0.50607824 0.50672024]\n",
            "in the day 23 our output is [[0.50733405]]\n",
            "in the day 24 our input is [0.34981383 0.35813492 0.35644577 0.33340632 0.33306805 0.33897882\n",
            " 0.33232686 0.33218914 0.32161824 0.34666816 0.34558005 0.35410147\n",
            " 0.35050039 0.3342752  0.33418891 0.34668944 0.36318116 0.36957571\n",
            " 0.37058021 0.37638135 0.38248869 0.38309332 0.43554624 0.42802725\n",
            " 0.43890923 0.44544382 0.44063494 0.4414363  0.44620761 0.46022831\n",
            " 0.49625782 0.4905136  0.47738587 0.43319228 0.4250321  0.43572774\n",
            " 0.46029298 0.48476454 0.46336476 0.46594083 0.48144092 0.48438741\n",
            " 0.48451738 0.47364364 0.4503602  0.45568029 0.4570898  0.43498318\n",
            " 0.44113446 0.43734121 0.45559799 0.47378979 0.46921843 0.48300687\n",
            " 0.47037594 0.50764308 0.47400366 0.48070099 0.48829569 0.48116619\n",
            " 0.48054067 0.48609071 0.48675756 0.48803518 0.49196103 0.46302618\n",
            " 0.47142001 0.47112627 0.46645663 0.46982942 0.47443747 0.47138894\n",
            " 0.46777868 0.4612445  0.46206832 0.48051336 0.47772813 0.48111203\n",
            " 0.48309389 0.48474053 0.48619029 0.48756054 0.48894095 0.4903762\n",
            " 0.49186927 0.49339464 0.49491265 0.49638242 0.49777016 0.49905458\n",
            " 0.50022697 0.50128984 0.50225353 0.50313228 0.50394166 0.50469553\n",
            " 0.50540501 0.50607824 0.50672024 0.50733405]\n",
            "in the day 24 our output is [[0.5079211]]\n",
            "in the day 25 our input is [0.35813492 0.35644577 0.33340632 0.33306805 0.33897882 0.33232686\n",
            " 0.33218914 0.32161824 0.34666816 0.34558005 0.35410147 0.35050039\n",
            " 0.3342752  0.33418891 0.34668944 0.36318116 0.36957571 0.37058021\n",
            " 0.37638135 0.38248869 0.38309332 0.43554624 0.42802725 0.43890923\n",
            " 0.44544382 0.44063494 0.4414363  0.44620761 0.46022831 0.49625782\n",
            " 0.4905136  0.47738587 0.43319228 0.4250321  0.43572774 0.46029298\n",
            " 0.48476454 0.46336476 0.46594083 0.48144092 0.48438741 0.48451738\n",
            " 0.47364364 0.4503602  0.45568029 0.4570898  0.43498318 0.44113446\n",
            " 0.43734121 0.45559799 0.47378979 0.46921843 0.48300687 0.47037594\n",
            " 0.50764308 0.47400366 0.48070099 0.48829569 0.48116619 0.48054067\n",
            " 0.48609071 0.48675756 0.48803518 0.49196103 0.46302618 0.47142001\n",
            " 0.47112627 0.46645663 0.46982942 0.47443747 0.47138894 0.46777868\n",
            " 0.4612445  0.46206832 0.48051336 0.47772813 0.48111203 0.48309389\n",
            " 0.48474053 0.48619029 0.48756054 0.48894095 0.4903762  0.49186927\n",
            " 0.49339464 0.49491265 0.49638242 0.49777016 0.49905458 0.50022697\n",
            " 0.50128984 0.50225353 0.50313228 0.50394166 0.50469553 0.50540501\n",
            " 0.50607824 0.50672024 0.50733405 0.5079211 ]\n",
            "in the day 25 our output is [[0.5084821]]\n",
            "in the day 26 our input is [0.35644577 0.33340632 0.33306805 0.33897882 0.33232686 0.33218914\n",
            " 0.32161824 0.34666816 0.34558005 0.35410147 0.35050039 0.3342752\n",
            " 0.33418891 0.34668944 0.36318116 0.36957571 0.37058021 0.37638135\n",
            " 0.38248869 0.38309332 0.43554624 0.42802725 0.43890923 0.44544382\n",
            " 0.44063494 0.4414363  0.44620761 0.46022831 0.49625782 0.4905136\n",
            " 0.47738587 0.43319228 0.4250321  0.43572774 0.46029298 0.48476454\n",
            " 0.46336476 0.46594083 0.48144092 0.48438741 0.48451738 0.47364364\n",
            " 0.4503602  0.45568029 0.4570898  0.43498318 0.44113446 0.43734121\n",
            " 0.45559799 0.47378979 0.46921843 0.48300687 0.47037594 0.50764308\n",
            " 0.47400366 0.48070099 0.48829569 0.48116619 0.48054067 0.48609071\n",
            " 0.48675756 0.48803518 0.49196103 0.46302618 0.47142001 0.47112627\n",
            " 0.46645663 0.46982942 0.47443747 0.47138894 0.46777868 0.4612445\n",
            " 0.46206832 0.48051336 0.47772813 0.48111203 0.48309389 0.48474053\n",
            " 0.48619029 0.48756054 0.48894095 0.4903762  0.49186927 0.49339464\n",
            " 0.49491265 0.49638242 0.49777016 0.49905458 0.50022697 0.50128984\n",
            " 0.50225353 0.50313228 0.50394166 0.50469553 0.50540501 0.50607824\n",
            " 0.50672024 0.50733405 0.5079211  0.5084821 ]\n",
            "in the day 26 our output is [[0.50901747]]\n",
            "in the day 27 our input is [0.33340632 0.33306805 0.33897882 0.33232686 0.33218914 0.32161824\n",
            " 0.34666816 0.34558005 0.35410147 0.35050039 0.3342752  0.33418891\n",
            " 0.34668944 0.36318116 0.36957571 0.37058021 0.37638135 0.38248869\n",
            " 0.38309332 0.43554624 0.42802725 0.43890923 0.44544382 0.44063494\n",
            " 0.4414363  0.44620761 0.46022831 0.49625782 0.4905136  0.47738587\n",
            " 0.43319228 0.4250321  0.43572774 0.46029298 0.48476454 0.46336476\n",
            " 0.46594083 0.48144092 0.48438741 0.48451738 0.47364364 0.4503602\n",
            " 0.45568029 0.4570898  0.43498318 0.44113446 0.43734121 0.45559799\n",
            " 0.47378979 0.46921843 0.48300687 0.47037594 0.50764308 0.47400366\n",
            " 0.48070099 0.48829569 0.48116619 0.48054067 0.48609071 0.48675756\n",
            " 0.48803518 0.49196103 0.46302618 0.47142001 0.47112627 0.46645663\n",
            " 0.46982942 0.47443747 0.47138894 0.46777868 0.4612445  0.46206832\n",
            " 0.48051336 0.47772813 0.48111203 0.48309389 0.48474053 0.48619029\n",
            " 0.48756054 0.48894095 0.4903762  0.49186927 0.49339464 0.49491265\n",
            " 0.49638242 0.49777016 0.49905458 0.50022697 0.50128984 0.50225353\n",
            " 0.50313228 0.50394166 0.50469553 0.50540501 0.50607824 0.50672024\n",
            " 0.50733405 0.5079211  0.5084821  0.50901747]\n",
            "in the day 27 our output is [[0.5095277]]\n",
            "in the day 28 our input is [0.33306805 0.33897882 0.33232686 0.33218914 0.32161824 0.34666816\n",
            " 0.34558005 0.35410147 0.35050039 0.3342752  0.33418891 0.34668944\n",
            " 0.36318116 0.36957571 0.37058021 0.37638135 0.38248869 0.38309332\n",
            " 0.43554624 0.42802725 0.43890923 0.44544382 0.44063494 0.4414363\n",
            " 0.44620761 0.46022831 0.49625782 0.4905136  0.47738587 0.43319228\n",
            " 0.4250321  0.43572774 0.46029298 0.48476454 0.46336476 0.46594083\n",
            " 0.48144092 0.48438741 0.48451738 0.47364364 0.4503602  0.45568029\n",
            " 0.4570898  0.43498318 0.44113446 0.43734121 0.45559799 0.47378979\n",
            " 0.46921843 0.48300687 0.47037594 0.50764308 0.47400366 0.48070099\n",
            " 0.48829569 0.48116619 0.48054067 0.48609071 0.48675756 0.48803518\n",
            " 0.49196103 0.46302618 0.47142001 0.47112627 0.46645663 0.46982942\n",
            " 0.47443747 0.47138894 0.46777868 0.4612445  0.46206832 0.48051336\n",
            " 0.47772813 0.48111203 0.48309389 0.48474053 0.48619029 0.48756054\n",
            " 0.48894095 0.4903762  0.49186927 0.49339464 0.49491265 0.49638242\n",
            " 0.49777016 0.49905458 0.50022697 0.50128984 0.50225353 0.50313228\n",
            " 0.50394166 0.50469553 0.50540501 0.50607824 0.50672024 0.50733405\n",
            " 0.5079211  0.5084821  0.50901747 0.50952768]\n",
            "in the day 28 our output is [[0.51001316]]\n",
            "in the day 29 our input is [0.33897882 0.33232686 0.33218914 0.32161824 0.34666816 0.34558005\n",
            " 0.35410147 0.35050039 0.3342752  0.33418891 0.34668944 0.36318116\n",
            " 0.36957571 0.37058021 0.37638135 0.38248869 0.38309332 0.43554624\n",
            " 0.42802725 0.43890923 0.44544382 0.44063494 0.4414363  0.44620761\n",
            " 0.46022831 0.49625782 0.4905136  0.47738587 0.43319228 0.4250321\n",
            " 0.43572774 0.46029298 0.48476454 0.46336476 0.46594083 0.48144092\n",
            " 0.48438741 0.48451738 0.47364364 0.4503602  0.45568029 0.4570898\n",
            " 0.43498318 0.44113446 0.43734121 0.45559799 0.47378979 0.46921843\n",
            " 0.48300687 0.47037594 0.50764308 0.47400366 0.48070099 0.48829569\n",
            " 0.48116619 0.48054067 0.48609071 0.48675756 0.48803518 0.49196103\n",
            " 0.46302618 0.47142001 0.47112627 0.46645663 0.46982942 0.47443747\n",
            " 0.47138894 0.46777868 0.4612445  0.46206832 0.48051336 0.47772813\n",
            " 0.48111203 0.48309389 0.48474053 0.48619029 0.48756054 0.48894095\n",
            " 0.4903762  0.49186927 0.49339464 0.49491265 0.49638242 0.49777016\n",
            " 0.49905458 0.50022697 0.50128984 0.50225353 0.50313228 0.50394166\n",
            " 0.50469553 0.50540501 0.50607824 0.50672024 0.50733405 0.5079211\n",
            " 0.5084821  0.50901747 0.50952768 0.51001316]\n",
            "in the day 29 our output is [[0.51047474]]\n",
            "[[0.47772812843322754], [0.4811120331287384], [0.48309388756752014], [0.4847405254840851], [0.4861902892589569], [0.48756054043769836], [0.488940954208374], [0.49037620425224304], [0.4918692708015442], [0.4933946430683136], [0.49491265416145325], [0.4963824152946472], [0.49777016043663025], [0.49905458092689514], [0.5002269744873047], [0.5012898445129395], [0.502253532409668], [0.5031322836875916], [0.5039416551589966], [0.5046955347061157], [0.5054050087928772], [0.5060782432556152], [0.506720244884491], [0.5073340535163879], [0.5079210996627808], [0.5084820985794067], [0.5090174674987793], [0.5095276832580566], [0.5100131630897522], [0.5104747414588928]]\n"
          ],
          "name": "stdout"
        }
      ]
    },
    {
      "cell_type": "code",
      "metadata": {
        "id": "fF69l8rsDR3l"
      },
      "source": [
        "#On va l'utiliser dans le plot si non les courbes seront inversées)\n",
        "new=np.arange(1,101)\n",
        "pred=np.arange(101,131)"
      ],
      "execution_count": null,
      "outputs": []
    },
    {
      "cell_type": "code",
      "metadata": {
        "id": "bLbfsANBDR6i",
        "colab": {
          "base_uri": "https://localhost:8080/",
          "height": 527
        },
        "outputId": "44f00644-b137-4471-cda9-d90d68f90ab9"
      },
      "source": [
        "scaler.inverse_transform(output)"
      ],
      "execution_count": null,
      "outputs": [
        {
          "output_type": "execute_result",
          "data": {
            "text/plain": [
              "array([[ 9600.38218212],\n",
              "       [ 9664.50695738],\n",
              "       [ 9702.06297089],\n",
              "       [ 9733.26665298],\n",
              "       [ 9760.73958281],\n",
              "       [ 9786.70575407],\n",
              "       [ 9812.8645058 ],\n",
              "       [ 9840.06240137],\n",
              "       [ 9868.35591597],\n",
              "       [ 9897.26162183],\n",
              "       [ 9926.02783393],\n",
              "       [ 9953.8797124 ],\n",
              "       [ 9980.17739314],\n",
              "       [10004.51707841],\n",
              "       [10026.7338606 ],\n",
              "       [10046.87517889],\n",
              "       [10065.13700224],\n",
              "       [10081.78928216],\n",
              "       [10097.12681923],\n",
              "       [10111.41278792],\n",
              "       [10124.85727601],\n",
              "       [10137.61502556],\n",
              "       [10149.78091493],\n",
              "       [10161.41254883],\n",
              "       [10172.53703536],\n",
              "       [10183.16792857],\n",
              "       [10193.31313499],\n",
              "       [10202.98169065],\n",
              "       [10212.18150208],\n",
              "       [10220.92838234]])"
            ]
          },
          "metadata": {
            "tags": []
          },
          "execution_count": 76
        }
      ]
    },
    {
      "cell_type": "code",
      "metadata": {
        "id": "lr8GfE_vDR8s",
        "colab": {
          "base_uri": "https://localhost:8080/",
          "height": 282
        },
        "outputId": "5d94b014-d5fe-4834-f004-9c3c38e1263a"
      },
      "source": [
        "plt.plot(new,scaler.inverse_transform(df[len(df)-past:]))#previous 100 data\n",
        "plt.plot(pred,scaler.inverse_transform(output))"
      ],
      "execution_count": null,
      "outputs": [
        {
          "output_type": "execute_result",
          "data": {
            "text/plain": [
              "[<matplotlib.lines.Line2D at 0x7f4ee583f438>]"
            ]
          },
          "metadata": {
            "tags": []
          },
          "execution_count": 77
        },
        {
          "output_type": "display_data",
          "data": {
            "image/png": "[encoded data removed]",
            "text/plain": [
              "<Figure size 432x288 with 1 Axes>"
            ]
          },
          "metadata": {
            "tags": [],
            "needs_background": "light"
          }
        }
      ]
    },
    {
      "cell_type": "code",
      "metadata": {
        "id": "CjEA-iavEIkP"
      },
      "source": [
        "df1=df.tolist()\n",
        "df1.extend(output)"
      ],
      "execution_count": null,
      "outputs": []
    },
    {
      "cell_type": "code",
      "metadata": {
        "id": "8XzeO7LBEImt",
        "colab": {
          "base_uri": "https://localhost:8080/",
          "height": 282
        },
        "outputId": "6a4dd770-b785-4b4f-884b-bc68c79c41f8"
      },
      "source": [
        "df1=scaler.inverse_transform(df1)\n",
        "plt.plot(df1[:len(df)])#on plot que demain pas les treintes"
      ],
      "execution_count": null,
      "outputs": [
        {
          "output_type": "execute_result",
          "data": {
            "text/plain": [
              "[<matplotlib.lines.Line2D at 0x7f4ee70ceb70>]"
            ]
          },
          "metadata": {
            "tags": []
          },
          "execution_count": 79
        },
        {
          "output_type": "display_data",
          "data": {
            "image/png": "[encoded data removed]",
            "text/plain": [
              "<Figure size 432x288 with 1 Axes>"
            ]
          },
          "metadata": {
            "tags": [],
            "needs_background": "light"
          }
        }
      ]
    },
    {
      "cell_type": "code",
      "metadata": {
        "id": "uxea0bjaEIoj",
        "colab": {
          "base_uri": "https://localhost:8080/",
          "height": 68
        },
        "outputId": "244bb34b-de79-4cae-acec-38ecc9c8bc76"
      },
      "source": [
        "if df1[len(df)]>df1[len(df)-1]:\n",
        "    print(\"D'après notre modèle demain le cours sera plus élévé que celui d'aujourd'hui\")\n",
        "else:\n",
        "    print(\"D'après notre modèle demain le cours sera plus bas que celui d'aujourd'hui \")\n",
        "print(\"Le cours  aujourd'hui est : \",df1[len(df)-1])\n",
        "print(\"Le cours  demain sera : \",df1[len(df)])"
      ],
      "execution_count": null,
      "outputs": [
        {
          "output_type": "stream",
          "text": [
            "D'après notre modèle demain le cours sera plus bas que celui d'aujourd'hui \n",
            "Le cours  aujourd'hui est :  [9653.16210938]\n",
            "Le cours  demain sera :  [9600.38218212]\n"
          ],
          "name": "stdout"
        }
      ]
    },
    {
      "cell_type": "code",
      "metadata": {
        "id": "m5k5YSQfEIq8"
      },
      "source": [
        "\n",
        "y_train=y_train.reshape(-1,1) \n",
        "y_test=y_test.reshape(-1,1) "
      ],
      "execution_count": null,
      "outputs": []
    },
    {
      "cell_type": "code",
      "metadata": {
        "id": "9clErK-AEItU",
        "colab": {
          "base_uri": "https://localhost:8080/",
          "height": 782
        },
        "outputId": "a89f2146-68fa-4965-f3c2-ace59282fd8b"
      },
      "source": [
        "y_train=scaler.inverse_transform(y_train)\n",
        "y_test=scaler.inverse_transform(y_test)\n"
      ],
      "execution_count": null,
      "outputs": [
        {
          "output_type": "execute_result",
          "data": {
            "text/plain": [
              "array([[ 9951.51855469],\n",
              "       [ 9842.66601562],\n",
              "       [ 9593.89648438],\n",
              "       [ 8756.43066406],\n",
              "       [ 8601.79589844],\n",
              "       [ 8804.47753906],\n",
              "       [ 9269.98730469],\n",
              "       [ 9733.72167969],\n",
              "       [ 9328.19726562],\n",
              "       [ 9377.01367188],\n",
              "       [ 9670.73925781],\n",
              "       [ 9726.57519531],\n",
              "       [ 9729.03808594],\n",
              "       [ 9522.98144531],\n",
              "       [ 9081.76171875],\n",
              "       [ 9182.57714844],\n",
              "       [ 9209.28710938],\n",
              "       [ 8790.36816406],\n",
              "       [ 8906.93457031],\n",
              "       [ 8835.05273438],\n",
              "       [ 9181.01757812],\n",
              "       [ 9525.75097656],\n",
              "       [ 9439.12402344],\n",
              "       [ 9700.4140625 ],\n",
              "       [ 9461.05859375],\n",
              "       [10167.26855469],\n",
              "       [ 9529.80371094],\n",
              "       [ 9656.71777344],\n",
              "       [ 9800.63671875],\n",
              "       [ 9665.53320312],\n",
              "       [ 9653.6796875 ],\n",
              "       [ 9758.85253906],\n",
              "       [ 9771.48925781],\n",
              "       [ 9795.70019531],\n",
              "       [ 9870.09472656],\n",
              "       [ 9321.78125   ],\n",
              "       [ 9480.84375   ],\n",
              "       [ 9475.27734375],\n",
              "       [ 9386.78808594],\n",
              "       [ 9450.70214844],\n",
              "       [ 9538.02441406],\n",
              "       [ 9480.25488281],\n",
              "       [ 9411.84082031],\n",
              "       [ 9288.01855469],\n",
              "       [ 9303.62988281]])"
            ]
          },
          "metadata": {
            "tags": []
          },
          "execution_count": 83
        }
      ]
    },
    {
      "cell_type": "markdown",
      "metadata": {
        "id": "2TojheaZFLDj"
      },
      "source": [
        "Metrics"
      ]
    },
    {
      "cell_type": "code",
      "metadata": {
        "id": "lF6nKS_GEIv-",
        "colab": {
          "base_uri": "https://localhost:8080/",
          "height": 51
        },
        "outputId": "f5d9f0a8-cbf7-40c5-9b52-028863ab8a5c"
      },
      "source": [
        "from sklearn.metrics import mean_squared_error\n",
        "mse_test=mean_squared_error(y_test,test_predict)\n",
        "print(\"MSE_test: \" , (mse_test))\n",
        "mse_train=mean_squared_error(y_train, train_predict)\n",
        "print(\"MSE_train: \" , (mse_train))\n"
      ],
      "execution_count": null,
      "outputs": [
        {
          "output_type": "stream",
          "text": [
            "MSE_test:  112494.55575298738\n",
            "MSE_train:  132621.87174651123\n"
          ],
          "name": "stdout"
        }
      ]
    },
    {
      "cell_type": "code",
      "metadata": {
        "id": "rbR8KmnfEIyw",
        "colab": {
          "base_uri": "https://localhost:8080/",
          "height": 51
        },
        "outputId": "dc967d7c-c653-417e-9e15-2b5de7c5bf0e"
      },
      "source": [
        "rmse_test = np.sqrt(mse_test)\n",
        "print(\"RMSE_test: %f\" % (rmse_test))\n",
        "\n",
        "rmse_train = np.sqrt(mean_squared_error(y_train, train_predict))\n",
        "print(\"RMSE_train: %f\" % (rmse_train))"
      ],
      "execution_count": null,
      "outputs": [
        {
          "output_type": "stream",
          "text": [
            "RMSE_test: 335.402081\n",
            "RMSE_train: 364.172860\n"
          ],
          "name": "stdout"
        }
      ]
    },
    {
      "cell_type": "code",
      "metadata": {
        "id": "cX_92t4C4F8E",
        "colab": {
          "base_uri": "https://localhost:8080/",
          "height": 51
        },
        "outputId": "cd496517-e2fb-4be4-9eda-3c489460d0a5"
      },
      "source": [
        "from sklearn.metrics import mean_absolute_error\n",
        "mae_test=mean_absolute_error(y_test,test_predict)\n",
        "print(\"MAE_test: \" , (mae_test))\n",
        "mae_train=mean_absolute_error(y_train, train_predict)\n",
        "print(\"MAE_train: \" , (mae_train))"
      ],
      "execution_count": null,
      "outputs": [
        {
          "output_type": "stream",
          "text": [
            "MAE_test:  233.5536458333334\n",
            "MAE_train:  214.97263129250825\n"
          ],
          "name": "stdout"
        }
      ]
    },
    {
      "cell_type": "code",
      "metadata": {
        "id": "EU5RJoXcEI4M",
        "colab": {
          "base_uri": "https://localhost:8080/",
          "height": 51
        },
        "outputId": "9b474070-a3fb-43de-de69-1854a5d04c7a"
      },
      "source": [
        "#MAPE\n",
        "mape_test = np.mean(np.abs((y_test- test_predict)/y_test))  \n",
        "print(\"MAPE_test: \" , (mape_test))\n",
        "mape_train=np.mean(np.abs((y_train- train_predict)/y_train))  \n",
        "print(\"MAPE_train: \" , (mape_train))"
      ],
      "execution_count": null,
      "outputs": [
        {
          "output_type": "stream",
          "text": [
            "MAPE_test:  0.02502026278646091\n",
            "MAPE_train:  0.040505965175137486\n"
          ],
          "name": "stdout"
        }
      ]
    },
    {
      "cell_type": "code",
      "metadata": {
        "id": "ml_jgZx5EI6U",
        "colab": {
          "base_uri": "https://localhost:8080/",
          "height": 51
        },
        "outputId": "4dcb7638-4d33-4a48-8c0e-0094a07472d7"
      },
      "source": [
        "#MPE\n",
        "mpe_test = np.mean((y_test- test_predict)/y_test)\n",
        "print(\"MPE_test: \" , (mpe_test))\n",
        "mpe_train=np.mean((y_train- train_predict)/y_train)  \n",
        "print(\"MPE_train: \" , (mpe_train))"
      ],
      "execution_count": null,
      "outputs": [
        {
          "output_type": "stream",
          "text": [
            "MPE_test:  -0.009736506314250734\n",
            "MPE_train:  -0.02014908837344736\n"
          ],
          "name": "stdout"
        }
      ]
    }
  ]
}